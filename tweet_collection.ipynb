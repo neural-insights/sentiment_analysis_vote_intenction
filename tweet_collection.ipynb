{
 "cells": [
  {
   "cell_type": "markdown",
   "metadata": {
    "id": "QTGbyE4tPAAQ"
   },
   "source": [
    "# **Collecting tweets**"
   ]
  },
  {
   "cell_type": "markdown",
   "metadata": {},
   "source": [
    "### Installing SNScrape library"
   ]
  },
  {
   "cell_type": "code",
   "execution_count": 1,
   "metadata": {
    "colab": {
     "base_uri": "https://localhost:8080/"
    },
    "executionInfo": {
     "elapsed": 17820,
     "status": "ok",
     "timestamp": 1674915717617,
     "user": {
      "displayName": "Aline Salviano",
      "userId": "17132370323163133714"
     },
     "user_tz": 180
    },
    "id": "HK8Qpb9JPAAY",
    "outputId": "517ef56d-db50-4955-a2a6-908ca2fe4083"
   },
   "outputs": [
    {
     "name": "stdout",
     "output_type": "stream",
     "text": [
      "Collecting git+https://github.com/JustAnotherArchivist/snscrape.git\n",
      "  Cloning https://github.com/JustAnotherArchivist/snscrape.git to /private/var/folders/k0/vjj5ssxx6gv9smwjt_3pmlgw0000gp/T/pip-req-build-e_4o_pud\n",
      "  Running command git clone --filter=blob:none --quiet https://github.com/JustAnotherArchivist/snscrape.git /private/var/folders/k0/vjj5ssxx6gv9smwjt_3pmlgw0000gp/T/pip-req-build-e_4o_pud\n",
      "  Resolved https://github.com/JustAnotherArchivist/snscrape.git to commit 285d5874fc20a9d9463ed261f45c5f4118277d05\n",
      "  Installing build dependencies ... \u001b[?25ldone\n",
      "\u001b[?25h  Getting requirements to build wheel ... \u001b[?25ldone\n",
      "\u001b[?25h  Installing backend dependencies ... \u001b[?25ldone\n",
      "\u001b[?25h  Preparing metadata (pyproject.toml) ... \u001b[?25ldone\n",
      "\u001b[?25hRequirement already satisfied: beautifulsoup4 in /Users/Lucas/opt/anaconda3/lib/python3.9/site-packages (from snscrape==0.6.2.20230320) (4.11.1)\n",
      "Requirement already satisfied: requests[socks] in /Users/Lucas/opt/anaconda3/lib/python3.9/site-packages (from snscrape==0.6.2.20230320) (2.28.1)\n",
      "Requirement already satisfied: filelock in /Users/Lucas/opt/anaconda3/lib/python3.9/site-packages (from snscrape==0.6.2.20230320) (3.6.0)\n",
      "Requirement already satisfied: lxml in /Users/Lucas/opt/anaconda3/lib/python3.9/site-packages (from snscrape==0.6.2.20230320) (4.9.1)\n",
      "Requirement already satisfied: soupsieve>1.2 in /Users/Lucas/opt/anaconda3/lib/python3.9/site-packages (from beautifulsoup4->snscrape==0.6.2.20230320) (2.3.1)\n",
      "Requirement already satisfied: idna<4,>=2.5 in /Users/Lucas/opt/anaconda3/lib/python3.9/site-packages (from requests[socks]->snscrape==0.6.2.20230320) (3.3)\n",
      "Requirement already satisfied: urllib3<1.27,>=1.21.1 in /Users/Lucas/opt/anaconda3/lib/python3.9/site-packages (from requests[socks]->snscrape==0.6.2.20230320) (1.26.11)\n",
      "Requirement already satisfied: certifi>=2017.4.17 in /Users/Lucas/opt/anaconda3/lib/python3.9/site-packages (from requests[socks]->snscrape==0.6.2.20230320) (2022.9.24)\n",
      "Requirement already satisfied: charset-normalizer<3,>=2 in /Users/Lucas/opt/anaconda3/lib/python3.9/site-packages (from requests[socks]->snscrape==0.6.2.20230320) (2.0.4)\n",
      "Requirement already satisfied: PySocks!=1.5.7,>=1.5.6 in /Users/Lucas/opt/anaconda3/lib/python3.9/site-packages (from requests[socks]->snscrape==0.6.2.20230320) (1.7.1)\n",
      "Building wheels for collected packages: snscrape\n",
      "  Building wheel for snscrape (pyproject.toml) ... \u001b[?25ldone\n",
      "\u001b[?25h  Created wheel for snscrape: filename=snscrape-0.6.2.20230320-py3-none-any.whl size=71808 sha256=92bbd080923bd34d3c50597b66327c6aede88b6ff09a247632344661ecab0d8c\n",
      "  Stored in directory: /private/var/folders/k0/vjj5ssxx6gv9smwjt_3pmlgw0000gp/T/pip-ephem-wheel-cache-stm0td6v/wheels/1a/ba/e2/39fa3a11802c4a622f2efc8be3f5ff854481051d0b4c95c1fd\n",
      "Successfully built snscrape\n",
      "Installing collected packages: snscrape\n",
      "Successfully installed snscrape-0.6.2.20230320\n"
     ]
    }
   ],
   "source": [
    "#Developer version of SNScrape (it runs only on Jupyter Notebook)\n",
    "\n",
    "!pip install git+https://github.com/JustAnotherArchivist/snscrape.git"
   ]
  },
  {
   "cell_type": "markdown",
   "metadata": {
    "id": "ZI5LYi-5QsO6"
   },
   "source": [
    "### SNScrape guides:\n",
    "\n",
    "- SNScrape's GitHub: https://github.com/JustAnotherArchivist/snscrape\n",
    "\n",
    "- Medium's article and tutorial: https://medium.com/dataseries/how-to-scrape-millions-of-tweets-using-snscrape-195ee3594721"
   ]
  },
  {
   "cell_type": "markdown",
   "metadata": {
    "id": "-h08JzlXPAAh"
   },
   "source": [
    "### Importing fundamental libraries"
   ]
  },
  {
   "cell_type": "code",
   "execution_count": 2,
   "metadata": {
    "id": "oUkl-hqlPAAj"
   },
   "outputs": [],
   "source": [
    "import snscrape.modules.twitter as sntwitter\n",
    "import pandas as pd\n",
    "from datetime import date, timedelta\n",
    "from time import sleep\n",
    "from tqdm.auto import tqdm\n",
    "\n",
    "#Ignore warnings\n",
    "import warnings\n",
    "warnings.filterwarnings(\"ignore\")"
   ]
  },
  {
   "cell_type": "markdown",
   "metadata": {
    "id": "vrEpBKqOPAAk"
   },
   "source": [
    "### Building a function to catch the tweets and store into a DataFrame"
   ]
  },
  {
   "cell_type": "code",
   "execution_count": 3,
   "metadata": {
    "id": "6woR0wptPAAl"
   },
   "outputs": [],
   "source": [
    "def tweet_collector(name, initial_month, final_month, initial_day, final_day, number_daily_tweets, total):\n",
    "    \n",
    "    # List to store tweets\n",
    "    tweets_list = []\n",
    "    \n",
    "    # Progress bar\n",
    "    progress_bar = tqdm(total = total)\n",
    "\n",
    "    # Transforming dates in objects datatype\n",
    "    initial_date = date(2022, initial_month, initial_day).isoformat()\n",
    "    final_date = date(2022, final_month, final_day).isoformat()\n",
    "    \n",
    "    # Counting\n",
    "    count = 0\n",
    "\n",
    "   # Loop\n",
    "    while count != total:\n",
    "        for j in range(1):\n",
    "            for i, tweet in enumerate(sntwitter.TwitterSearchScraper(f'{name} since:{initial_date} until:{final_date} lang:pt -filter:replies').get_items()):\n",
    "                if i >= number_daily_tweets:\n",
    "                    final_date = (date.fromisoformat(final_date) - timedelta(days = 1)).isoformat()\n",
    "                    break\n",
    "                tweets_list.append([tweet.date, tweet.id, tweet.content, tweet.user.username,\n",
    "                                     tweet.replyCount, tweet.retweetCount, tweet.likeCount, tweet.quoteCount])\n",
    "                sleep(0.01)\n",
    "                count += 1\n",
    "                progress_bar.update(1)\n",
    "\n",
    "    progress_bar.close()\n",
    "\n",
    "    # Creating a DataFrame\n",
    "    df = pd.DataFrame(tweets_list, columns=['date', 'tweet_id', 'tweet', 'username', 'replies_score',\n",
    "                                             'retweet_score', 'likes_score', 'quotes_score'])\n",
    "    \n",
    "    # Storing as csv\n",
    "    df.to_csv(f'{name}_tweets_{initial_month}.csv', encoding = 'utf-8', index = False)\n",
    "    \n",
    "    print(\"\\n Congratulations! All tweets were collected!\")"
   ]
  },
  {
   "cell_type": "markdown",
   "metadata": {
    "id": "w0rAMXLOI0Pp"
   },
   "source": [
    "## **Lula**"
   ]
  },
  {
   "cell_type": "markdown",
   "metadata": {
    "id": "cCEiEUun6ay8"
   },
   "source": [
    "### August"
   ]
  },
  {
   "cell_type": "code",
   "execution_count": 5,
   "metadata": {
    "colab": {
     "referenced_widgets": [
      "1b0f4ee719c94c62a3debb0ebb687099",
      "ab8e218780c042af886b5273a84e6422"
     ]
    },
    "id": "77e4j6TGPAAr",
    "outputId": "5cb35f49-bfe7-4422-9ccd-f463fb178326"
   },
   "outputs": [
    {
     "data": {
      "application/vnd.jupyter.widget-view+json": {
       "model_id": "4a1740fd0e5e4329824255fb70fd01c4",
       "version_major": 2,
       "version_minor": 0
      },
      "text/plain": [
       "  0%|          | 0/2000 [00:00<?, ?it/s]"
      ]
     },
     "metadata": {},
     "output_type": "display_data"
    },
    {
     "name": "stdout",
     "output_type": "stream",
     "text": [
      "\n",
      " Congratulations! All tweets were collected!\n"
     ]
    }
   ],
   "source": [
    "tweet_collector('lula', 8, 9, 16, 1, 125, 2000)\n",
    "#tweet_collector('lula', 8, 9, 16, 1, 2000, 32000)"
   ]
  },
  {
   "cell_type": "markdown",
   "metadata": {
    "id": "OpgwjzPk7X6N"
   },
   "source": [
    "### September"
   ]
  },
  {
   "cell_type": "code",
   "execution_count": null,
   "metadata": {
    "colab": {
     "referenced_widgets": [
      "4a5a41382b124e77ab29db4200289c75",
      "d779be2ac2d44c0dbc2b7834b9a42a46"
     ]
    },
    "id": "PuDJEEM0PAAt",
    "outputId": "c86950f5-6f99-4d08-bb3b-2dfb0c3edd0a"
   },
   "outputs": [
    {
     "data": {
      "application/vnd.jupyter.widget-view+json": {
       "model_id": "d779be2ac2d44c0dbc2b7834b9a42a46",
       "version_major": 2,
       "version_minor": 0
      },
      "text/plain": [
       "  0%|          | 0/60000 [00:00<?, ?it/s]"
      ]
     },
     "metadata": {},
     "output_type": "display_data"
    }
   ],
   "source": [
    "tweet_collector('lula', 9, 10, 1, 1, 2000, 60000)"
   ]
  },
  {
   "cell_type": "markdown",
   "metadata": {
    "id": "9W-PCLK58gaE"
   },
   "source": [
    "### October"
   ]
  },
  {
   "cell_type": "code",
   "execution_count": null,
   "metadata": {
    "colab": {
     "base_uri": "https://localhost:8080/",
     "height": 103,
     "referenced_widgets": [
      "f3876b97e2eb440482f89aa6048fc1db",
      "5813d1520fe348d4988bf719c614583d",
      "27de3532b23a408985e87e86b67cd677",
      "8f2536c1c1754e08aae40733df109a32",
      "32e13252695240f1879f8218bfc75506",
      "8fe76c03c71f4955b78ba8fcc0af18ce",
      "5adc95d10d2c4801bcdc55fbb393bb67",
      "9270aef45cf141e7a3a49765b28539a4",
      "29e7d5da752841e2bae4b743413d0167",
      "7a7707d6babf4114aacf1c53c1808dda",
      "e3322688528746c08b5e63e4e6dfc1d2"
     ]
    },
    "executionInfo": {
     "elapsed": 1879231,
     "status": "ok",
     "timestamp": 1674919124762,
     "user": {
      "displayName": "Aline Salviano",
      "userId": "17132370323163133714"
     },
     "user_tz": 180
    },
    "id": "OyV-wFwzPAAw",
    "outputId": "04c01225-6962-4ea5-8dbf-ca642e6eb714"
   },
   "outputs": [
    {
     "data": {
      "application/vnd.jupyter.widget-view+json": {
       "model_id": "f3876b97e2eb440482f89aa6048fc1db",
       "version_major": 2,
       "version_minor": 0
      },
      "text/plain": [
       "  0%|          | 0/60000 [00:00<?, ?it/s]"
      ]
     },
     "metadata": {},
     "output_type": "display_data"
    },
    {
     "name": "stderr",
     "output_type": "stream",
     "text": [
      "<ipython-input-9-84a8a116ab91>:23: FutureWarning: content is deprecated, use rawContent instead\n",
      "  lista_tweets.append([tweet.date, tweet.id, tweet.content, tweet.user.username,\n"
     ]
    },
    {
     "name": "stdout",
     "output_type": "stream",
     "text": [
      "Fim!\n"
     ]
    }
   ],
   "source": [
    "tweet_collector('lula', 10, 10, 1, 31, 2000, 60000)"
   ]
  },
  {
   "cell_type": "markdown",
   "metadata": {
    "id": "Tu9xEDnjI2if"
   },
   "source": [
    "# **Bolsonaro**"
   ]
  },
  {
   "cell_type": "markdown",
   "metadata": {
    "id": "maOW7W2DWRTd"
   },
   "source": [
    "### August"
   ]
  },
  {
   "cell_type": "code",
   "execution_count": null,
   "metadata": {
    "colab": {
     "referenced_widgets": [
      "e45d4413a9b34c24b842001c3047cfa4"
     ]
    },
    "id": "eJuRydV3PAA2",
    "outputId": "658bd836-d716-4b21-ad7f-9c12299fc771"
   },
   "outputs": [
    {
     "data": {
      "application/vnd.jupyter.widget-view+json": {
       "model_id": "e45d4413a9b34c24b842001c3047cfa4",
       "version_major": 2,
       "version_minor": 0
      },
      "text/plain": [
       "  0%|          | 0/16000 [00:00<?, ?it/s]"
      ]
     },
     "metadata": {},
     "output_type": "display_data"
    },
    {
     "name": "stdout",
     "output_type": "stream",
     "text": [
      "100%|██████████| 16000/16000 [17:27<00:00, 20.67it/s] \n",
      "\n",
      "Fim!\n"
     ]
    }
   ],
   "source": [
    "tweet_collector('bolsonaro', 8, 9, 16, 1, 2000, 32000)"
   ]
  },
  {
   "cell_type": "markdown",
   "metadata": {
    "id": "cczySGCPWRTi"
   },
   "source": [
    "### September"
   ]
  },
  {
   "cell_type": "code",
   "execution_count": null,
   "metadata": {
    "colab": {
     "referenced_widgets": [
      "c0e8498e81a84298839112ccef79f989"
     ]
    },
    "id": "dJKK1zkfPAA4",
    "outputId": "493ab067-6ee2-407f-d1ac-31cc68223d80"
   },
   "outputs": [
    {
     "data": {
      "application/vnd.jupyter.widget-view+json": {
       "model_id": "c0e8498e81a84298839112ccef79f989",
       "version_major": 2,
       "version_minor": 0
      },
      "text/plain": [
       "  0%|          | 0/30000 [00:00<?, ?it/s]"
      ]
     },
     "metadata": {},
     "output_type": "display_data"
    },
    {
     "name": "stdout",
     "output_type": "stream",
     "text": [
      "100%|██████████| 30000/30000 [33:29<00:00, 11.78it/s] \n",
      "\n",
      "Fim!\n"
     ]
    }
   ],
   "source": [
    "tweet_collector('bolsonaro', 9, 10, 1, 1, 2000, 60000)"
   ]
  },
  {
   "cell_type": "markdown",
   "metadata": {
    "id": "fxHZZ_gEPAA5"
   },
   "source": [
    "### October"
   ]
  },
  {
   "cell_type": "code",
   "execution_count": null,
   "metadata": {
    "colab": {
     "base_uri": "https://localhost:8080/",
     "height": 140,
     "referenced_widgets": [
      "25da860f228d4cbf8b0ac850c0b557be",
      "ff733addf453438e948eb9cac4dadb2c",
      "2125e6fd5e2f4bc28b2756349ec27de6",
      "17699d85d5ca412e8692d61d83870f37",
      "734af67f45264d308b0fd4ce2db44784",
      "030a079ef82c4ef3b3ce1f7634e5279e",
      "28d3aa0fe7c04eaab2d4311b4fd7f23a",
      "e70ddcbae3ff47d1b95879918b94b887",
      "ccc6567677bb4720923171c67385cb68",
      "d3a27088228a4c0bbe88b1ce380fc33a",
      "e38305619c7247bbb19e84eafd370948"
     ]
    },
    "executionInfo": {
     "elapsed": 3312186,
     "status": "ok",
     "timestamp": 1674922436940,
     "user": {
      "displayName": "Aline Salviano",
      "userId": "17132370323163133714"
     },
     "user_tz": 180
    },
    "id": "QlvVHoNsPAA6",
    "outputId": "a7b8d9ea-5fbf-40f7-fbed-427028172339"
   },
   "outputs": [
    {
     "data": {
      "application/vnd.jupyter.widget-view+json": {
       "model_id": "25da860f228d4cbf8b0ac850c0b557be",
       "version_major": 2,
       "version_minor": 0
      },
      "text/plain": [
       "  0%|          | 0/60000 [00:00<?, ?it/s]"
      ]
     },
     "metadata": {},
     "output_type": "display_data"
    },
    {
     "name": "stderr",
     "output_type": "stream",
     "text": [
      "<ipython-input-9-84a8a116ab91>:23: FutureWarning: content is deprecated, use rawContent instead\n",
      "  lista_tweets.append([tweet.date, tweet.id, tweet.content, tweet.user.username,\n",
      "WARNING:snscrape.modules.twitter:Tweet 1560216183642771456 contains an app icon medium key '4_1619224854179491841' on app 'android_app'/'com.zzkko', but the corresponding medium is missing; dropping\n"
     ]
    },
    {
     "name": "stdout",
     "output_type": "stream",
     "text": [
      "Fim!\n"
     ]
    }
   ],
   "source": [
    "tweet_collector('bolsonaro', 10, 10, 1, 31, 2000, 60000)"
   ]
  }
 ],
 "metadata": {
  "celltoolbar": "Raw Cell Format",
  "colab": {
   "provenance": []
  },
  "kernelspec": {
   "display_name": "Python 3 (ipykernel)",
   "language": "python",
   "name": "python3"
  },
  "language_info": {
   "codemirror_mode": {
    "name": "ipython",
    "version": 3
   },
   "file_extension": ".py",
   "mimetype": "text/x-python",
   "name": "python",
   "nbconvert_exporter": "python",
   "pygments_lexer": "ipython3",
   "version": "3.9.13"
  },
  "widgets": {
   "application/vnd.jupyter.widget-state+json": {
    "030a079ef82c4ef3b3ce1f7634e5279e": {
     "model_module": "@jupyter-widgets/base",
     "model_module_version": "1.2.0",
     "model_name": "LayoutModel",
     "state": {
      "_model_module": "@jupyter-widgets/base",
      "_model_module_version": "1.2.0",
      "_model_name": "LayoutModel",
      "_view_count": null,
      "_view_module": "@jupyter-widgets/base",
      "_view_module_version": "1.2.0",
      "_view_name": "LayoutView",
      "align_content": null,
      "align_items": null,
      "align_self": null,
      "border": null,
      "bottom": null,
      "display": null,
      "flex": null,
      "flex_flow": null,
      "grid_area": null,
      "grid_auto_columns": null,
      "grid_auto_flow": null,
      "grid_auto_rows": null,
      "grid_column": null,
      "grid_gap": null,
      "grid_row": null,
      "grid_template_areas": null,
      "grid_template_columns": null,
      "grid_template_rows": null,
      "height": null,
      "justify_content": null,
      "justify_items": null,
      "left": null,
      "margin": null,
      "max_height": null,
      "max_width": null,
      "min_height": null,
      "min_width": null,
      "object_fit": null,
      "object_position": null,
      "order": null,
      "overflow": null,
      "overflow_x": null,
      "overflow_y": null,
      "padding": null,
      "right": null,
      "top": null,
      "visibility": null,
      "width": null
     }
    },
    "17699d85d5ca412e8692d61d83870f37": {
     "model_module": "@jupyter-widgets/controls",
     "model_module_version": "1.5.0",
     "model_name": "HTMLModel",
     "state": {
      "_dom_classes": [],
      "_model_module": "@jupyter-widgets/controls",
      "_model_module_version": "1.5.0",
      "_model_name": "HTMLModel",
      "_view_count": null,
      "_view_module": "@jupyter-widgets/controls",
      "_view_module_version": "1.5.0",
      "_view_name": "HTMLView",
      "description": "",
      "description_tooltip": null,
      "layout": "IPY_MODEL_d3a27088228a4c0bbe88b1ce380fc33a",
      "placeholder": "​",
      "style": "IPY_MODEL_e38305619c7247bbb19e84eafd370948",
      "value": " 60000/60000 [55:11&lt;00:00, 16.19it/s]"
     }
    },
    "2125e6fd5e2f4bc28b2756349ec27de6": {
     "model_module": "@jupyter-widgets/controls",
     "model_module_version": "1.5.0",
     "model_name": "FloatProgressModel",
     "state": {
      "_dom_classes": [],
      "_model_module": "@jupyter-widgets/controls",
      "_model_module_version": "1.5.0",
      "_model_name": "FloatProgressModel",
      "_view_count": null,
      "_view_module": "@jupyter-widgets/controls",
      "_view_module_version": "1.5.0",
      "_view_name": "ProgressView",
      "bar_style": "success",
      "description": "",
      "description_tooltip": null,
      "layout": "IPY_MODEL_e70ddcbae3ff47d1b95879918b94b887",
      "max": 60000,
      "min": 0,
      "orientation": "horizontal",
      "style": "IPY_MODEL_ccc6567677bb4720923171c67385cb68",
      "value": 60000
     }
    },
    "25da860f228d4cbf8b0ac850c0b557be": {
     "model_module": "@jupyter-widgets/controls",
     "model_module_version": "1.5.0",
     "model_name": "HBoxModel",
     "state": {
      "_dom_classes": [],
      "_model_module": "@jupyter-widgets/controls",
      "_model_module_version": "1.5.0",
      "_model_name": "HBoxModel",
      "_view_count": null,
      "_view_module": "@jupyter-widgets/controls",
      "_view_module_version": "1.5.0",
      "_view_name": "HBoxView",
      "box_style": "",
      "children": [
       "IPY_MODEL_ff733addf453438e948eb9cac4dadb2c",
       "IPY_MODEL_2125e6fd5e2f4bc28b2756349ec27de6",
       "IPY_MODEL_17699d85d5ca412e8692d61d83870f37"
      ],
      "layout": "IPY_MODEL_734af67f45264d308b0fd4ce2db44784"
     }
    },
    "27de3532b23a408985e87e86b67cd677": {
     "model_module": "@jupyter-widgets/controls",
     "model_module_version": "1.5.0",
     "model_name": "FloatProgressModel",
     "state": {
      "_dom_classes": [],
      "_model_module": "@jupyter-widgets/controls",
      "_model_module_version": "1.5.0",
      "_model_name": "FloatProgressModel",
      "_view_count": null,
      "_view_module": "@jupyter-widgets/controls",
      "_view_module_version": "1.5.0",
      "_view_name": "ProgressView",
      "bar_style": "success",
      "description": "",
      "description_tooltip": null,
      "layout": "IPY_MODEL_9270aef45cf141e7a3a49765b28539a4",
      "max": 60000,
      "min": 0,
      "orientation": "horizontal",
      "style": "IPY_MODEL_29e7d5da752841e2bae4b743413d0167",
      "value": 60000
     }
    },
    "28d3aa0fe7c04eaab2d4311b4fd7f23a": {
     "model_module": "@jupyter-widgets/controls",
     "model_module_version": "1.5.0",
     "model_name": "DescriptionStyleModel",
     "state": {
      "_model_module": "@jupyter-widgets/controls",
      "_model_module_version": "1.5.0",
      "_model_name": "DescriptionStyleModel",
      "_view_count": null,
      "_view_module": "@jupyter-widgets/base",
      "_view_module_version": "1.2.0",
      "_view_name": "StyleView",
      "description_width": ""
     }
    },
    "29e7d5da752841e2bae4b743413d0167": {
     "model_module": "@jupyter-widgets/controls",
     "model_module_version": "1.5.0",
     "model_name": "ProgressStyleModel",
     "state": {
      "_model_module": "@jupyter-widgets/controls",
      "_model_module_version": "1.5.0",
      "_model_name": "ProgressStyleModel",
      "_view_count": null,
      "_view_module": "@jupyter-widgets/base",
      "_view_module_version": "1.2.0",
      "_view_name": "StyleView",
      "bar_color": null,
      "description_width": ""
     }
    },
    "32e13252695240f1879f8218bfc75506": {
     "model_module": "@jupyter-widgets/base",
     "model_module_version": "1.2.0",
     "model_name": "LayoutModel",
     "state": {
      "_model_module": "@jupyter-widgets/base",
      "_model_module_version": "1.2.0",
      "_model_name": "LayoutModel",
      "_view_count": null,
      "_view_module": "@jupyter-widgets/base",
      "_view_module_version": "1.2.0",
      "_view_name": "LayoutView",
      "align_content": null,
      "align_items": null,
      "align_self": null,
      "border": null,
      "bottom": null,
      "display": null,
      "flex": null,
      "flex_flow": null,
      "grid_area": null,
      "grid_auto_columns": null,
      "grid_auto_flow": null,
      "grid_auto_rows": null,
      "grid_column": null,
      "grid_gap": null,
      "grid_row": null,
      "grid_template_areas": null,
      "grid_template_columns": null,
      "grid_template_rows": null,
      "height": null,
      "justify_content": null,
      "justify_items": null,
      "left": null,
      "margin": null,
      "max_height": null,
      "max_width": null,
      "min_height": null,
      "min_width": null,
      "object_fit": null,
      "object_position": null,
      "order": null,
      "overflow": null,
      "overflow_x": null,
      "overflow_y": null,
      "padding": null,
      "right": null,
      "top": null,
      "visibility": null,
      "width": null
     }
    },
    "5813d1520fe348d4988bf719c614583d": {
     "model_module": "@jupyter-widgets/controls",
     "model_module_version": "1.5.0",
     "model_name": "HTMLModel",
     "state": {
      "_dom_classes": [],
      "_model_module": "@jupyter-widgets/controls",
      "_model_module_version": "1.5.0",
      "_model_name": "HTMLModel",
      "_view_count": null,
      "_view_module": "@jupyter-widgets/controls",
      "_view_module_version": "1.5.0",
      "_view_name": "HTMLView",
      "description": "",
      "description_tooltip": null,
      "layout": "IPY_MODEL_8fe76c03c71f4955b78ba8fcc0af18ce",
      "placeholder": "​",
      "style": "IPY_MODEL_5adc95d10d2c4801bcdc55fbb393bb67",
      "value": "100%"
     }
    },
    "5adc95d10d2c4801bcdc55fbb393bb67": {
     "model_module": "@jupyter-widgets/controls",
     "model_module_version": "1.5.0",
     "model_name": "DescriptionStyleModel",
     "state": {
      "_model_module": "@jupyter-widgets/controls",
      "_model_module_version": "1.5.0",
      "_model_name": "DescriptionStyleModel",
      "_view_count": null,
      "_view_module": "@jupyter-widgets/base",
      "_view_module_version": "1.2.0",
      "_view_name": "StyleView",
      "description_width": ""
     }
    },
    "734af67f45264d308b0fd4ce2db44784": {
     "model_module": "@jupyter-widgets/base",
     "model_module_version": "1.2.0",
     "model_name": "LayoutModel",
     "state": {
      "_model_module": "@jupyter-widgets/base",
      "_model_module_version": "1.2.0",
      "_model_name": "LayoutModel",
      "_view_count": null,
      "_view_module": "@jupyter-widgets/base",
      "_view_module_version": "1.2.0",
      "_view_name": "LayoutView",
      "align_content": null,
      "align_items": null,
      "align_self": null,
      "border": null,
      "bottom": null,
      "display": null,
      "flex": null,
      "flex_flow": null,
      "grid_area": null,
      "grid_auto_columns": null,
      "grid_auto_flow": null,
      "grid_auto_rows": null,
      "grid_column": null,
      "grid_gap": null,
      "grid_row": null,
      "grid_template_areas": null,
      "grid_template_columns": null,
      "grid_template_rows": null,
      "height": null,
      "justify_content": null,
      "justify_items": null,
      "left": null,
      "margin": null,
      "max_height": null,
      "max_width": null,
      "min_height": null,
      "min_width": null,
      "object_fit": null,
      "object_position": null,
      "order": null,
      "overflow": null,
      "overflow_x": null,
      "overflow_y": null,
      "padding": null,
      "right": null,
      "top": null,
      "visibility": null,
      "width": null
     }
    },
    "7a7707d6babf4114aacf1c53c1808dda": {
     "model_module": "@jupyter-widgets/base",
     "model_module_version": "1.2.0",
     "model_name": "LayoutModel",
     "state": {
      "_model_module": "@jupyter-widgets/base",
      "_model_module_version": "1.2.0",
      "_model_name": "LayoutModel",
      "_view_count": null,
      "_view_module": "@jupyter-widgets/base",
      "_view_module_version": "1.2.0",
      "_view_name": "LayoutView",
      "align_content": null,
      "align_items": null,
      "align_self": null,
      "border": null,
      "bottom": null,
      "display": null,
      "flex": null,
      "flex_flow": null,
      "grid_area": null,
      "grid_auto_columns": null,
      "grid_auto_flow": null,
      "grid_auto_rows": null,
      "grid_column": null,
      "grid_gap": null,
      "grid_row": null,
      "grid_template_areas": null,
      "grid_template_columns": null,
      "grid_template_rows": null,
      "height": null,
      "justify_content": null,
      "justify_items": null,
      "left": null,
      "margin": null,
      "max_height": null,
      "max_width": null,
      "min_height": null,
      "min_width": null,
      "object_fit": null,
      "object_position": null,
      "order": null,
      "overflow": null,
      "overflow_x": null,
      "overflow_y": null,
      "padding": null,
      "right": null,
      "top": null,
      "visibility": null,
      "width": null
     }
    },
    "8f2536c1c1754e08aae40733df109a32": {
     "model_module": "@jupyter-widgets/controls",
     "model_module_version": "1.5.0",
     "model_name": "HTMLModel",
     "state": {
      "_dom_classes": [],
      "_model_module": "@jupyter-widgets/controls",
      "_model_module_version": "1.5.0",
      "_model_name": "HTMLModel",
      "_view_count": null,
      "_view_module": "@jupyter-widgets/controls",
      "_view_module_version": "1.5.0",
      "_view_name": "HTMLView",
      "description": "",
      "description_tooltip": null,
      "layout": "IPY_MODEL_7a7707d6babf4114aacf1c53c1808dda",
      "placeholder": "​",
      "style": "IPY_MODEL_e3322688528746c08b5e63e4e6dfc1d2",
      "value": " 60000/60000 [55:00&lt;00:00, 17.07it/s]"
     }
    },
    "8fe76c03c71f4955b78ba8fcc0af18ce": {
     "model_module": "@jupyter-widgets/base",
     "model_module_version": "1.2.0",
     "model_name": "LayoutModel",
     "state": {
      "_model_module": "@jupyter-widgets/base",
      "_model_module_version": "1.2.0",
      "_model_name": "LayoutModel",
      "_view_count": null,
      "_view_module": "@jupyter-widgets/base",
      "_view_module_version": "1.2.0",
      "_view_name": "LayoutView",
      "align_content": null,
      "align_items": null,
      "align_self": null,
      "border": null,
      "bottom": null,
      "display": null,
      "flex": null,
      "flex_flow": null,
      "grid_area": null,
      "grid_auto_columns": null,
      "grid_auto_flow": null,
      "grid_auto_rows": null,
      "grid_column": null,
      "grid_gap": null,
      "grid_row": null,
      "grid_template_areas": null,
      "grid_template_columns": null,
      "grid_template_rows": null,
      "height": null,
      "justify_content": null,
      "justify_items": null,
      "left": null,
      "margin": null,
      "max_height": null,
      "max_width": null,
      "min_height": null,
      "min_width": null,
      "object_fit": null,
      "object_position": null,
      "order": null,
      "overflow": null,
      "overflow_x": null,
      "overflow_y": null,
      "padding": null,
      "right": null,
      "top": null,
      "visibility": null,
      "width": null
     }
    },
    "9270aef45cf141e7a3a49765b28539a4": {
     "model_module": "@jupyter-widgets/base",
     "model_module_version": "1.2.0",
     "model_name": "LayoutModel",
     "state": {
      "_model_module": "@jupyter-widgets/base",
      "_model_module_version": "1.2.0",
      "_model_name": "LayoutModel",
      "_view_count": null,
      "_view_module": "@jupyter-widgets/base",
      "_view_module_version": "1.2.0",
      "_view_name": "LayoutView",
      "align_content": null,
      "align_items": null,
      "align_self": null,
      "border": null,
      "bottom": null,
      "display": null,
      "flex": null,
      "flex_flow": null,
      "grid_area": null,
      "grid_auto_columns": null,
      "grid_auto_flow": null,
      "grid_auto_rows": null,
      "grid_column": null,
      "grid_gap": null,
      "grid_row": null,
      "grid_template_areas": null,
      "grid_template_columns": null,
      "grid_template_rows": null,
      "height": null,
      "justify_content": null,
      "justify_items": null,
      "left": null,
      "margin": null,
      "max_height": null,
      "max_width": null,
      "min_height": null,
      "min_width": null,
      "object_fit": null,
      "object_position": null,
      "order": null,
      "overflow": null,
      "overflow_x": null,
      "overflow_y": null,
      "padding": null,
      "right": null,
      "top": null,
      "visibility": null,
      "width": null
     }
    },
    "ccc6567677bb4720923171c67385cb68": {
     "model_module": "@jupyter-widgets/controls",
     "model_module_version": "1.5.0",
     "model_name": "ProgressStyleModel",
     "state": {
      "_model_module": "@jupyter-widgets/controls",
      "_model_module_version": "1.5.0",
      "_model_name": "ProgressStyleModel",
      "_view_count": null,
      "_view_module": "@jupyter-widgets/base",
      "_view_module_version": "1.2.0",
      "_view_name": "StyleView",
      "bar_color": null,
      "description_width": ""
     }
    },
    "d3a27088228a4c0bbe88b1ce380fc33a": {
     "model_module": "@jupyter-widgets/base",
     "model_module_version": "1.2.0",
     "model_name": "LayoutModel",
     "state": {
      "_model_module": "@jupyter-widgets/base",
      "_model_module_version": "1.2.0",
      "_model_name": "LayoutModel",
      "_view_count": null,
      "_view_module": "@jupyter-widgets/base",
      "_view_module_version": "1.2.0",
      "_view_name": "LayoutView",
      "align_content": null,
      "align_items": null,
      "align_self": null,
      "border": null,
      "bottom": null,
      "display": null,
      "flex": null,
      "flex_flow": null,
      "grid_area": null,
      "grid_auto_columns": null,
      "grid_auto_flow": null,
      "grid_auto_rows": null,
      "grid_column": null,
      "grid_gap": null,
      "grid_row": null,
      "grid_template_areas": null,
      "grid_template_columns": null,
      "grid_template_rows": null,
      "height": null,
      "justify_content": null,
      "justify_items": null,
      "left": null,
      "margin": null,
      "max_height": null,
      "max_width": null,
      "min_height": null,
      "min_width": null,
      "object_fit": null,
      "object_position": null,
      "order": null,
      "overflow": null,
      "overflow_x": null,
      "overflow_y": null,
      "padding": null,
      "right": null,
      "top": null,
      "visibility": null,
      "width": null
     }
    },
    "e3322688528746c08b5e63e4e6dfc1d2": {
     "model_module": "@jupyter-widgets/controls",
     "model_module_version": "1.5.0",
     "model_name": "DescriptionStyleModel",
     "state": {
      "_model_module": "@jupyter-widgets/controls",
      "_model_module_version": "1.5.0",
      "_model_name": "DescriptionStyleModel",
      "_view_count": null,
      "_view_module": "@jupyter-widgets/base",
      "_view_module_version": "1.2.0",
      "_view_name": "StyleView",
      "description_width": ""
     }
    },
    "e38305619c7247bbb19e84eafd370948": {
     "model_module": "@jupyter-widgets/controls",
     "model_module_version": "1.5.0",
     "model_name": "DescriptionStyleModel",
     "state": {
      "_model_module": "@jupyter-widgets/controls",
      "_model_module_version": "1.5.0",
      "_model_name": "DescriptionStyleModel",
      "_view_count": null,
      "_view_module": "@jupyter-widgets/base",
      "_view_module_version": "1.2.0",
      "_view_name": "StyleView",
      "description_width": ""
     }
    },
    "e70ddcbae3ff47d1b95879918b94b887": {
     "model_module": "@jupyter-widgets/base",
     "model_module_version": "1.2.0",
     "model_name": "LayoutModel",
     "state": {
      "_model_module": "@jupyter-widgets/base",
      "_model_module_version": "1.2.0",
      "_model_name": "LayoutModel",
      "_view_count": null,
      "_view_module": "@jupyter-widgets/base",
      "_view_module_version": "1.2.0",
      "_view_name": "LayoutView",
      "align_content": null,
      "align_items": null,
      "align_self": null,
      "border": null,
      "bottom": null,
      "display": null,
      "flex": null,
      "flex_flow": null,
      "grid_area": null,
      "grid_auto_columns": null,
      "grid_auto_flow": null,
      "grid_auto_rows": null,
      "grid_column": null,
      "grid_gap": null,
      "grid_row": null,
      "grid_template_areas": null,
      "grid_template_columns": null,
      "grid_template_rows": null,
      "height": null,
      "justify_content": null,
      "justify_items": null,
      "left": null,
      "margin": null,
      "max_height": null,
      "max_width": null,
      "min_height": null,
      "min_width": null,
      "object_fit": null,
      "object_position": null,
      "order": null,
      "overflow": null,
      "overflow_x": null,
      "overflow_y": null,
      "padding": null,
      "right": null,
      "top": null,
      "visibility": null,
      "width": null
     }
    },
    "f3876b97e2eb440482f89aa6048fc1db": {
     "model_module": "@jupyter-widgets/controls",
     "model_module_version": "1.5.0",
     "model_name": "HBoxModel",
     "state": {
      "_dom_classes": [],
      "_model_module": "@jupyter-widgets/controls",
      "_model_module_version": "1.5.0",
      "_model_name": "HBoxModel",
      "_view_count": null,
      "_view_module": "@jupyter-widgets/controls",
      "_view_module_version": "1.5.0",
      "_view_name": "HBoxView",
      "box_style": "",
      "children": [
       "IPY_MODEL_5813d1520fe348d4988bf719c614583d",
       "IPY_MODEL_27de3532b23a408985e87e86b67cd677",
       "IPY_MODEL_8f2536c1c1754e08aae40733df109a32"
      ],
      "layout": "IPY_MODEL_32e13252695240f1879f8218bfc75506"
     }
    },
    "ff733addf453438e948eb9cac4dadb2c": {
     "model_module": "@jupyter-widgets/controls",
     "model_module_version": "1.5.0",
     "model_name": "HTMLModel",
     "state": {
      "_dom_classes": [],
      "_model_module": "@jupyter-widgets/controls",
      "_model_module_version": "1.5.0",
      "_model_name": "HTMLModel",
      "_view_count": null,
      "_view_module": "@jupyter-widgets/controls",
      "_view_module_version": "1.5.0",
      "_view_name": "HTMLView",
      "description": "",
      "description_tooltip": null,
      "layout": "IPY_MODEL_030a079ef82c4ef3b3ce1f7634e5279e",
      "placeholder": "​",
      "style": "IPY_MODEL_28d3aa0fe7c04eaab2d4311b4fd7f23a",
      "value": "100%"
     }
    }
   }
  }
 },
 "nbformat": 4,
 "nbformat_minor": 4
}
