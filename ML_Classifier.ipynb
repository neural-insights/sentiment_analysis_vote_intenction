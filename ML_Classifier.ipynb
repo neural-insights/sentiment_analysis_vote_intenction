{
 "cells": [
  {
   "cell_type": "markdown",
   "metadata": {},
   "source": [
    "## Checking GPU optimized environment (NVIDIA)"
   ]
  },
  {
   "cell_type": "code",
   "execution_count": 1,
   "metadata": {},
   "outputs": [
    {
     "name": "stdout",
     "output_type": "stream",
     "text": [
      "Num GPUs Available:  1\n",
      "2.6.0\n"
     ]
    },
    {
     "data": {
      "text/plain": [
       "'3.9.16 (main, Jan 11 2023, 16:16:36) [MSC v.1916 64 bit (AMD64)]'"
      ]
     },
     "execution_count": 1,
     "metadata": {},
     "output_type": "execute_result"
    }
   ],
   "source": [
    "#Check GPU\n",
    "import tensorflow as tf\n",
    "from tensorflow import keras\n",
    "print(\"Num GPUs Available: \", len(tf.config.experimental.list_physical_devices('GPU')))\n",
    "tf.test.is_built_with_cuda()\n",
    "print(tf.version.VERSION)\n",
    "import sys\n",
    "sys.version"
   ]
  },
  {
   "cell_type": "markdown",
   "metadata": {},
   "source": [
    "## Importing fundamental libraries \n",
    "(already installed)"
   ]
  },
  {
   "cell_type": "code",
   "execution_count": 11,
   "metadata": {
    "colab": {
     "base_uri": "https://localhost:8080/",
     "height": 384
    },
    "id": "CogDnvEaWwlw",
    "outputId": "3d5c2862-5cb9-4b89-9a8f-f3bfbc9e3ab8"
   },
   "outputs": [
    {
     "name": "stderr",
     "output_type": "stream",
     "text": [
      "[nltk_data] Downloading package stopwords to /Users/Lucas/nltk_data...\n",
      "[nltk_data]   Unzipping corpora/stopwords.zip.\n",
      "[nltk_data] Downloading package punkt to /Users/Lucas/nltk_data...\n",
      "[nltk_data]   Unzipping tokenizers/punkt.zip.\n",
      "[nltk_data] Downloading package omw-1.4 to /Users/Lucas/nltk_data...\n"
     ]
    },
    {
     "data": {
      "text/plain": [
       "True"
      ]
     },
     "execution_count": 11,
     "metadata": {},
     "output_type": "execute_result"
    }
   ],
   "source": [
    "import time\n",
    "import re\n",
    "import pandas as pd\n",
    "import numpy as np\n",
    "import seaborn as sns\n",
    "import matplotlib.pyplot as plt\n",
    "\n",
    "import spacy\n",
    "import nltk\n",
    "from nltk.tokenize import sent_tokenize, word_tokenize\n",
    "from nltk.corpus import stopwords\n",
    "from string import punctuation\n",
    "from wordcloud import WordCloud, STOPWORDS, ImageColorGenerator\n",
    "\n",
    "from sklearn.multiclass import OneVsOneClassifier, OneVsRestClassifier\n",
    "from sklearn.model_selection import train_test_split\n",
    "from sklearn.utils.class_weight import compute_class_weight\n",
    "from sklearn.model_selection import cross_val_score\n",
    "from sklearn.feature_extraction.text import CountVectorizer, TfidfVectorizer\n",
    "from sklearn.pipeline import Pipeline\n",
    "from sklearn.linear_model import LogisticRegression\n",
    "from sklearn.svm import LinearSVC\n",
    "from sklearn.ensemble import RandomForestClassifier\n",
    "from xgboost import XGBClassifier\n",
    "from skopt import BayesSearchCV\n",
    "from skopt.space import Real, Categorical, Integer\n",
    "from sklearn.metrics import classification_report, confusion_matrix, ConfusionMatrixDisplay\n",
    "import warnings\n",
    "warnings.filterwarnings('ignore')\n",
    "\n",
    "nltk.download('stopwords')\n",
    "nltk.download('punkt')\n",
    "nltk.download('omw-1.4')"
   ]
  },
  {
   "cell_type": "markdown",
   "metadata": {},
   "source": [
    "## Declaring the Dataframes that will be used in EDA and ML modeling"
   ]
  },
  {
   "cell_type": "markdown",
   "metadata": {},
   "source": [
    "#### Classifications related to the first round range (until 02/10/2022)"
   ]
  },
  {
   "cell_type": "code",
   "execution_count": 42,
   "metadata": {
    "id": "8m4nbMNrW2RW"
   },
   "outputs": [],
   "source": [
    "# Classificações automáticas\n",
    "# Lula\n",
    "lula_auto = pd.read_csv('/Users/Lucas/Documents/Python_Scripts/Projeto Tera/GitHub/lula_auto.csv')\n",
    "lula_auto = lula_auto.drop(columns=['Unnamed: 0'])\n",
    "\n",
    "# Bolsonaro\n",
    "bolsonaro_auto = pd.read_csv('/Users/Lucas/Documents/Python_Scripts/Projeto Tera/GitHub/bolsonaro_auto.csv')\n",
    "bolsonaro_auto = bolsonaro_auto.drop(columns=['Unnamed: 0.1','Unnamed: 0'])"
   ]
  },
  {
   "cell_type": "markdown",
   "metadata": {},
   "source": [
    "#### Manual Classification related to the first round range (until 02/10/2022)"
   ]
  },
  {
   "cell_type": "code",
   "execution_count": 43,
   "metadata": {
    "id": "fgHiP4IGW2NR"
   },
   "outputs": [],
   "source": [
    "# Classificações manuais\n",
    "\n",
    "# Lula\n",
    "lula_man = pd.read_csv('/Users/Lucas/Documents/Python_Scripts/Projeto Tera/GitHub/lula_man.csv')\n",
    "lula_man.sentiment_manual.replace({2.0:-1, 11.0:1}, inplace=True)\n",
    "\n",
    "# Bolsonaro\n",
    "bolsonaro_man = pd.read_csv('/Users/Lucas/Documents/Python_Scripts/Projeto Tera/GitHub/bolsonaro_man.csv')\n",
    "bolsonaro_man = bolsonaro_man.dropna(subset = ['sentiment_manual'], inplace=None)"
   ]
  },
  {
   "cell_type": "markdown",
   "metadata": {},
   "source": [
    "#### Database with Hashtags filtered from tweets for exploratory data analysis (EDA)"
   ]
  },
  {
   "cell_type": "code",
   "execution_count": 44,
   "metadata": {
    "id": "exo3vM5cDwu9"
   },
   "outputs": [],
   "source": [
    "# Hashtags\n",
    "\n",
    "# Lula\n",
    "#lula_hashtags = pd.read_csv('/content/drive/MyDrive/Projeto Tera: Eleição/Datasets - classificação automática/df_lula_hashtags.csv')\n",
    "lula_hashtags = pd.read_csv('/Users/Lucas/Documents/Python_Scripts/Projeto Tera/GitHub/df_lula_hashtags.csv')\n",
    "lula_hashtags = lula_hashtags.rename(columns={'0': 'hashtags'})\n",
    "\n",
    "# Bolsonaro\n",
    "#bolsonaro_hashtags = pd.read_csv('/content/drive/MyDrive/Projeto Tera: Eleição/Datasets - classificação automática/df_bolsonaro_hashtags.csv')\n",
    "bolsonaro_hashtags = pd.read_csv('/Users/Lucas/Documents/Python_Scripts/Projeto Tera/GitHub/df_bolsonaro_hashtags.csv')\n",
    "bolsonaro_hashtags = bolsonaro_hashtags.rename(columns={'0': 'hashtags'})"
   ]
  },
  {
   "cell_type": "markdown",
   "metadata": {},
   "source": [
    "#### Database for the period of the second round (02-30/10/2022)"
   ]
  },
  {
   "cell_type": "code",
   "execution_count": 45,
   "metadata": {
    "id": "MY568ocmWzI5"
   },
   "outputs": [],
   "source": [
    "# October Data\n",
    "lula_october = pd.read_csv('/Users/Lucas/Documents/Python_Scripts/Projeto Tera/GitHub/lula_october_auto.csv')\n",
    "bolsonaro_october = pd.read_csv('/Users/Lucas/Documents/Python_Scripts/Projeto Tera/GitHub/bolsonaro_october_auto.csv')"
   ]
  },
  {
   "cell_type": "markdown",
   "metadata": {
    "id": "-efPeqde4bUX"
   },
   "source": [
    "# Exploratory Data Analysis (EDA)"
   ]
  },
  {
   "cell_type": "markdown",
   "metadata": {},
   "source": [
    "#### Initially, a correlation chart will be displayed between the variables (columns) in the database. The idea here is to verify if it is possible to obtain any insight regarding sentiment analysis from some other variable."
   ]
  },
  {
   "cell_type": "code",
   "execution_count": 46,
   "metadata": {
    "id": "rCkxwjVKyDG1"
   },
   "outputs": [],
   "source": [
    "columns = ['tweet_id', 'tweet_no_emoji', 'tweet_tokenize', 'tweet_no_stopwords', 'tweet_stemmize', 'tweet_lemmatize', 'subjetivity', 'polarity', 'hashtag']\n",
    "\n",
    "df_lula_auto = lula_auto.drop(columns, axis='columns')\n",
    "df_bolsonaro_auto = bolsonaro_auto.drop(columns, axis='columns')"
   ]
  },
  {
   "cell_type": "code",
   "execution_count": 47,
   "metadata": {
    "colab": {
     "base_uri": "https://localhost:8080/",
     "height": 512
    },
    "id": "V7m_sQf34A5H",
    "outputId": "cc3a9df1-b0b0-47fb-de33-35acbacf3657"
   },
   "outputs": [
    {
     "data": {
      "image/png": "[encoded data removed]",
      "text/plain": [
       "<Figure size 1000x700 with 2 Axes>"
      ]
     },
     "metadata": {},
     "output_type": "display_data"
    }
   ],
   "source": [
    "# Lula\n",
    "\n",
    "corr = df_lula_auto.corr().round(2)\n",
    "mask = np.triu(np.ones_like(corr, dtype=bool))\n",
    "\n",
    "plt.figure(figsize=(10, 7))\n",
    "sns.heatmap(corr, annot=True, mask=mask, cmap='coolwarm')\n",
    "plt.savefig('lula_correlation.png', dpi=500, bbox_inches = 'tight')\n",
    "plt.show()"
   ]
  },
  {
   "cell_type": "code",
   "execution_count": 48,
   "metadata": {
    "colab": {
     "base_uri": "https://localhost:8080/",
     "height": 512
    },
    "id": "RDMZG6vG4SwC",
    "outputId": "fedd78dd-a24f-46a4-c58d-9b4e0aa0f474"
   },
   "outputs": [
    {
     "data": {
      "image/png": "[encoded data removed]",
      "text/plain": [
       "<Figure size 1000x700 with 2 Axes>"
      ]
     },
     "metadata": {},
     "output_type": "display_data"
    }
   ],
   "source": [
    "# Bolsonaro\n",
    "\n",
    "corr = df_bolsonaro_auto.corr().round(2)\n",
    "mask = np.triu(np.ones_like(corr, dtype=bool))\n",
    "\n",
    "plt.figure(figsize=(10, 7))\n",
    "sns.heatmap(corr, annot=True, mask=mask, cmap='coolwarm')\n",
    "plt.savefig('bolsonaro_correlation.png', dpi=500, bbox_inches = 'tight')\n",
    "plt.show()"
   ]
  },
  {
   "cell_type": "markdown",
   "metadata": {},
   "source": [
    "#### As expected, the sentiment classification does not have any correlation with any other variable in the Tweet, so we will not include them in our modeling.\n",
    "\n",
    "#### Now, we will see the 15 most commented hashtags for each candidate."
   ]
  },
  {
   "cell_type": "code",
   "execution_count": 49,
   "metadata": {
    "colab": {
     "base_uri": "https://localhost:8080/",
     "height": 675
    },
    "id": "FqBP-3q-JpJN",
    "outputId": "68bf6207-8496-4e3e-ca26-756a57655e8d"
   },
   "outputs": [
    {
     "data": {
      "image/png": "[encoded data removed]",
      "text/plain": [
       "<Figure size 1200x1000 with 1 Axes>"
      ]
     },
     "metadata": {},
     "output_type": "display_data"
    }
   ],
   "source": [
    "# Lula\n",
    "\n",
    "cont_lula_hashtags = lula_hashtags['hashtags'].value_counts().reset_index()\n",
    "cont_lula_hashtags_plot = cont_lula_hashtags.loc[cont_lula_hashtags['hashtags'] > 200]\n",
    "\n",
    "plt.figure(figsize=(12,10))\n",
    "sns.barplot(x='index', y='hashtags', data=cont_lula_hashtags_plot)\n",
    "plt.xticks(rotation=45, ha='right')\n",
    "plt.xlabel('Hashtag')\n",
    "plt.ylabel('Quantity')\n",
    "plt.savefig('lula_hashtags.png', dpi=500, bbox_inches = 'tight')\n",
    "plt.show()"
   ]
  },
  {
   "cell_type": "code",
   "execution_count": 50,
   "metadata": {
    "colab": {
     "base_uri": "https://localhost:8080/",
     "height": 705
    },
    "id": "xkrSTG-UJpGq",
    "outputId": "32aa0083-ba5b-404b-99d0-ab3392cdfe64"
   },
   "outputs": [
    {
     "data": {
      "image/png": "[encoded data removed]",
      "text/plain": [
       "<Figure size 1200x1000 with 1 Axes>"
      ]
     },
     "metadata": {},
     "output_type": "display_data"
    }
   ],
   "source": [
    "# Bolsonaro\n",
    "\n",
    "cont_bolsonaro_hashtags = bolsonaro_hashtags['hashtags'].value_counts().reset_index()\n",
    "cont_bolsonaro_hashtags_plot = cont_bolsonaro_hashtags.loc[cont_bolsonaro_hashtags['hashtags'] > 200]\n",
    "\n",
    "plt.figure(figsize=(12,10))\n",
    "sns.barplot(x='index', y='hashtags', data=cont_bolsonaro_hashtags_plot)\n",
    "plt.xticks(rotation=45, ha='right')\n",
    "plt.xlabel('Hashtag')\n",
    "plt.ylabel('Quantity')\n",
    "plt.savefig('bolsonaro_hashtags.png', dpi=500, bbox_inches = 'tight')\n",
    "plt.show()"
   ]
  },
  {
   "cell_type": "markdown",
   "metadata": {},
   "source": [
    "**(1) It is notable that the hashtags of the candidate Lula have more messages with positive connotations than Bolsonaro, who even has more generic messages without much meaning.**\n",
    "\n",
    "**(2) The importance of including hashtags in sentiment analysis is clear, since many of them are explicit manifestations of voting intention.**\n",
    "\n",
    "**(3) As Bolsonaro's hashtags are more generic, it was hypothesized that the classifications for this candidate could have lower performance.**"
   ]
  },
  {
   "cell_type": "markdown",
   "metadata": {
    "id": "MRT_kh-FqXBf"
   },
   "source": [
    "# Sentiment Analysis"
   ]
  },
  {
   "cell_type": "markdown",
   "metadata": {},
   "source": [
    "#### Tokenize and Lemmatize"
   ]
  },
  {
   "cell_type": "code",
   "execution_count": 20,
   "metadata": {
    "id": "IXgMxpkj6qEd"
   },
   "outputs": [],
   "source": [
    "from nltk.corpus import stopwords\n",
    "stop_words = set(stopwords.words('portuguese') + list(punctuation))\n",
    "generated_tokens = ['Serao', 'a o', 'ate', 'de ela', 'de elas', 'de ele', 'de o', 'em o', 'em um', 'estao', 'estavamos',\n",
    "                  'estiverar', 'estivesser', 'foramos', 'fosser', 'ha', 'hajar', 'hao', 'houvemo', 'houveramos', 'houverao',\n",
    "                  'houverer', 'houveriamo', 'houverio', 'houvero', 'houverr', 'houvessemos', 'ja', 'nao', 'por o', 'sao',\n",
    "                  'sejar', 'serer', 'seriar', 'sero', 'so', 'tambem', 'ter', 'terao', 'teriamo', 'tinhar', 'tiveramos', 'tivessemos', 'vo', 'voce']\n",
    "stop_words.update(generated_tokens)\n",
    "stop_words = list(stop_words)\n",
    "\n",
    "lemmatizer = spacy.load('pt_core_news_sm')\n",
    "\n",
    "def lemma_tokens(tokens, lemmatizer):\n",
    "    lemmad = []\n",
    "    for item in tokens:\n",
    "        doc = lemmatizer(item)\n",
    "        lemmad.append(doc[0].lemma_)\n",
    "    return lemmad\n",
    "\n",
    "def tokenize(text):\n",
    "    tokens = word_tokenize(text)\n",
    "    lemmas = lemma_tokens(tokens, lemmatizer)\n",
    "    return lemmas"
   ]
  },
  {
   "cell_type": "markdown",
   "metadata": {
    "id": "vXxc1iSJs2rb"
   },
   "source": [
    "## Lula"
   ]
  },
  {
   "cell_type": "code",
   "execution_count": 21,
   "metadata": {
    "id": "HnOpAIdisso1"
   },
   "outputs": [],
   "source": [
    "X = lula_man['cleaned_tweet']\n",
    "y = lula_man['sentiment_manual']\n",
    "\n",
    "X_train, X_test, y_train, y_test = train_test_split(X, y, test_size=.2, random_state=42)"
   ]
  },
  {
   "cell_type": "markdown",
   "metadata": {},
   "source": [
    "#### Applying class_weight as a way of balance between the Positive, Neutral, and Negative classes."
   ]
  },
  {
   "cell_type": "code",
   "execution_count": 22,
   "metadata": {
    "colab": {
     "base_uri": "https://localhost:8080/"
    },
    "id": "Ut7SxlGOt5oa",
    "outputId": "49814f71-4f63-4e9f-b9d4-9ac66eea8d00"
   },
   "outputs": [
    {
     "data": {
      "text/plain": [
       "{-1.0: 2.7144408251900107, 0.0: 0.7284382284382285, 1.0: 0.7944073721004131}"
      ]
     },
     "execution_count": 22,
     "metadata": {},
     "output_type": "execute_result"
    }
   ],
   "source": [
    "# Class weight de Lula\n",
    "\n",
    "class_weights_lula = compute_class_weight(class_weight = 'balanced',\n",
    "                                          classes = np.unique(y),\n",
    "                                          y = y)\n",
    "class_weights_lula = dict(zip(np.unique(y), class_weights_lula))\n",
    "class_weights_lula"
   ]
  },
  {
   "cell_type": "code",
   "execution_count": 23,
   "metadata": {
    "id": "PsZmRXCDz-lo",
    "outputId": "4283fdf4-9c61-4b30-9118-473c8bc35cfa"
   },
   "outputs": [
    {
     "data": {
      "text/plain": [
       " 0.0    2288\n",
       " 1.0    2098\n",
       "-1.0     614\n",
       "Name: sentimento_manual, dtype: int64"
      ]
     },
     "execution_count": 23,
     "metadata": {},
     "output_type": "execute_result"
    }
   ],
   "source": [
    "y.value_counts()"
   ]
  },
  {
   "cell_type": "code",
   "execution_count": 2,
   "metadata": {},
   "outputs": [
    {
     "name": "stdout",
     "output_type": "stream",
     "text": [
      "Approval percentage: 41.96%\n",
      "Neutral percentage: 45.76%\n",
      "Reproval percentage: 12.28%\n"
     ]
    }
   ],
   "source": [
    "print(f'Approval percentage: {2098/5000 * 100 :.2f}%')\n",
    "print(f'Neutral percentage: {2288/5000 * 100 :.2f}%')\n",
    "print(f'Reproval percentage: {614/5000 * 100 :.2f}%')"
   ]
  },
  {
   "cell_type": "code",
   "execution_count": 24,
   "metadata": {
    "id": "q4PMQYdez-lp",
    "outputId": "b1dbe8a0-f8d6-490b-aabd-a2db9483f4b5"
   },
   "outputs": [
    {
     "data": {
      "text/plain": [
       "7.143322475570033"
      ]
     },
     "execution_count": 24,
     "metadata": {},
     "output_type": "execute_result"
    }
   ],
   "source": [
    "# Razão entre o número de ocorrências da classe negativa e as classes positivas\n",
    "\n",
    "scale_pos_weight_lula = (2288 + 2098) / 614\n",
    "scale_pos_weight_lula"
   ]
  },
  {
   "cell_type": "markdown",
   "metadata": {
    "id": "nqNDSY5Q3ePF"
   },
   "source": [
    "### A brief summary of some libraries used for Pipeline's implementation.\n",
    "\n",
    "The **OneVsRestClassifier** library is a multi-class classification technique that is used when there are more than two categories or classes to be predicted. It involves training multiple binary classifiers, where each classifier is responsible for predicting the occurrence of a specific class versus all other classes.\n",
    "\n",
    "The **TfidfVectorizer** and **CountVectorizer** libraries are used to process textual data, transforming them into numerical representations. TfidfVectorizer uses Tf-idf to represent the importance of a word relative to a document. CountVectorizer simply counts the occurrence of words in documents. Both libraries generate vector representations that are used as input to classification models.\n",
    "\n",
    "By combining **TfidfVectorizer** or **CountVectorizer** libraries with **OneVsRestClassifier**, it is possible to train NLP models that can predict multiple categories or classes from textual data. The OneVsRestClassifier uses the vector representations generated by TfidfVectorizer or CountVectorizer as input to train multiple binary classifiers, while the base estimator (e.g. SVC) is used to perform the classification."
   ]
  },
  {
   "cell_type": "markdown",
   "metadata": {},
   "source": [
    "#### We will use (1) Logistic Regression, (2) LinearSVC, (3) RandomForestClassifier and (4) XGBoost as possible ways to classify the Tweets, both for TFIDF word vectors and CountVectorizer."
   ]
  },
  {
   "cell_type": "code",
   "execution_count": 27,
   "metadata": {
    "id": "2EWrXFROz-lr"
   },
   "outputs": [],
   "source": [
    "# Pipeline 1 - TfidfVectorizer e LogisticRegression\n",
    "pipe_1 = Pipeline([('TfidfVectorizer', TfidfVectorizer(strip_accents='unicode', stop_words=stop_words, tokenizer=tokenize)),\n",
    "                   ('LogisticRegression', OneVsRestClassifier(LogisticRegression(random_state=42,\n",
    "                                                                                 class_weight=class_weights_lula)))])\n",
    "\n",
    "# Pipeline 2 - TfidfVectorizer e SVC\n",
    "pipe_2 = Pipeline([('TfidfVectorizer', TfidfVectorizer(strip_accents='unicode', stop_words=stop_words, tokenizer=tokenize)),\n",
    "                   ('LinearSVC', OneVsOneClassifier(LinearSVC(random_state=42,\n",
    "                                                              class_weight=class_weights_lula)))])\n",
    "\n",
    "# Pipeline 3 - TfidfVectorizer e RandomForestClassifier\n",
    "pipe_3 = Pipeline([('TfidfVectorizer', TfidfVectorizer(strip_accents='unicode', stop_words=stop_words, tokenizer=tokenize)),\n",
    "                   ('RandomForestClassifier', OneVsOneClassifier(RandomForestClassifier(random_state=42,\n",
    "                                                                                        class_weight=class_weights_lula)))])\n",
    "\n",
    "# Pipeline 4 - TfidfVectorizer e XGBClassifier\n",
    "pipe_4 = Pipeline([('TfidfVectorizer', TfidfVectorizer(strip_accents='unicode', stop_words=stop_words, tokenizer=tokenize)),\n",
    "                   ('XGBClassifier', XGBClassifier(random_state=42,\n",
    "                                                   scale_pos_weight=scale_pos_weight_lula))])\n",
    "\n",
    "\n",
    "# Pipeline 5 - CountVectorizer e LogisticRegression\n",
    "pipe_5 = Pipeline([('CountVectorizer', CountVectorizer(strip_accents='unicode', stop_words=stop_words, tokenizer=tokenize)),\n",
    "                   ('LogisticRegression', OneVsRestClassifier(LogisticRegression(random_state=42,\n",
    "                                                                                 class_weight=class_weights_lula)))])\n",
    "\n",
    "# Pipeline 6 - CountVectorizer e SVC\n",
    "pipe_6 = Pipeline([('CountVectorizer', CountVectorizer(strip_accents='unicode', stop_words=stop_words, tokenizer=tokenize)),\n",
    "                   ('LinearSVC', OneVsOneClassifier(LinearSVC(random_state=42,\n",
    "                                                              class_weight=class_weights_lula)))])\n",
    "\n",
    "# Pipeline 7 - CountVectorizer e RandomForestClassifier\n",
    "pipe_7 = Pipeline([('CountVectorizer', CountVectorizer(strip_accents='unicode', stop_words=stop_words, tokenizer=tokenize)),\n",
    "                   ('RandomForestClassifier', OneVsOneClassifier(RandomForestClassifier(random_state=42,\n",
    "                                                                                        class_weight=class_weights_lula)))])\n",
    "\n",
    "# Pipeline 8 - CountVectorizer e XGBClassifier\n",
    "pipe_8 = Pipeline([('CountVectorizer', CountVectorizer(strip_accents='unicode', stop_words=stop_words, tokenizer=tokenize)),\n",
    "                   ('XGBClassifier', XGBClassifier(random_state=42,\n",
    "                                                scale_pos_weight=scale_pos_weight_lula))])"
   ]
  },
  {
   "cell_type": "markdown",
   "metadata": {},
   "source": [
    "### Cross-validation for TFIDF"
   ]
  },
  {
   "cell_type": "code",
   "execution_count": 28,
   "metadata": {
    "id": "GmPs4z_ykDo0",
    "outputId": "a925dfae-2413-4825-d957-d53df80424ec"
   },
   "outputs": [],
   "source": [
    "# Validação cruzada com os pipelines contendo TfidfVectorizer\n",
    "\n",
    "pipe_tfidf = [pipe_1, pipe_2, pipe_3, pipe_4]\n",
    "results_tfidf = []\n",
    "model = 1\n",
    "\n",
    "for pipe in pipe_tfidf:\n",
    "    initial_time = time.time()\n",
    "    scores = cross_val_score(pipe, X, y, cv=5, scoring='precision_micro', error_score='raise')\n",
    "    final_time = time.time()\n",
    "    time_gap = final_time - initial_time\n",
    "    results_tfidf.append({'model': 'pipe_'f'{model}', 'mean_score': scores.mean(), 'std_score': scores.std(), 'time': time_gap})\n",
    "    model += 1\n",
    "    if model > 4:\n",
    "        break"
   ]
  },
  {
   "cell_type": "markdown",
   "metadata": {},
   "source": [
    "### Cross-validation for CountVectorizer"
   ]
  },
  {
   "cell_type": "code",
   "execution_count": 29,
   "metadata": {
    "id": "aO91vCEi41Hj",
    "outputId": "72a8ce88-e9fb-4ccc-fe71-126f36209f53"
   },
   "outputs": [],
   "source": [
    "# Validação cruzada com os pipelines contendo CountVectorizer\n",
    "\n",
    "pipe_count = [pipe_5, pipe_6, pipe_7, pipe_8]\n",
    "results_count = []\n",
    "model = 5\n",
    "\n",
    "for pipe in pipe_count:\n",
    "    initial_time = time.time()\n",
    "    scores = cross_val_score(pipe, X, y, cv=5, scoring='precision_micro', error_score='raise')\n",
    "    final_time = time.time()\n",
    "    time_gap = final_time - initial_time\n",
    "    results_count.append({'model': 'pipe_'f'{model}', 'mean_score': scores.mean(), 'std_score': scores.std(), 'time': time_gap})\n",
    "    model += 1\n",
    "    if model > 8:\n",
    "        break"
   ]
  },
  {
   "cell_type": "code",
   "execution_count": 30,
   "metadata": {
    "colab": {
     "base_uri": "https://localhost:8080/",
     "height": 175
    },
    "id": "lnUVZffQCYZX",
    "outputId": "4d56f8dc-5ccc-417c-a650-e37d61035ddd"
   },
   "outputs": [
    {
     "data": {
      "text/html": [
       "<div>\n",
       "<style scoped>\n",
       "    .dataframe tbody tr th:only-of-type {\n",
       "        vertical-align: middle;\n",
       "    }\n",
       "\n",
       "    .dataframe tbody tr th {\n",
       "        vertical-align: top;\n",
       "    }\n",
       "\n",
       "    .dataframe thead th {\n",
       "        text-align: right;\n",
       "    }\n",
       "</style>\n",
       "<table border=\"1\" class=\"dataframe\">\n",
       "  <thead>\n",
       "    <tr style=\"text-align: right;\">\n",
       "      <th></th>\n",
       "      <th>modelo</th>\n",
       "      <th>mean_score</th>\n",
       "      <th>std_score</th>\n",
       "      <th>tempo</th>\n",
       "    </tr>\n",
       "  </thead>\n",
       "  <tbody>\n",
       "    <tr>\n",
       "      <th>0</th>\n",
       "      <td>pipe_1</td>\n",
       "      <td>0.6782</td>\n",
       "      <td>0.023928</td>\n",
       "      <td>2018.074381</td>\n",
       "    </tr>\n",
       "    <tr>\n",
       "      <th>1</th>\n",
       "      <td>pipe_2</td>\n",
       "      <td>0.6866</td>\n",
       "      <td>0.025017</td>\n",
       "      <td>1987.571688</td>\n",
       "    </tr>\n",
       "    <tr>\n",
       "      <th>2</th>\n",
       "      <td>pipe_3</td>\n",
       "      <td>0.6810</td>\n",
       "      <td>0.025884</td>\n",
       "      <td>2280.577999</td>\n",
       "    </tr>\n",
       "    <tr>\n",
       "      <th>3</th>\n",
       "      <td>pipe_4</td>\n",
       "      <td>0.6400</td>\n",
       "      <td>0.027033</td>\n",
       "      <td>2012.687046</td>\n",
       "    </tr>\n",
       "  </tbody>\n",
       "</table>\n",
       "</div>"
      ],
      "text/plain": [
       "   modelo  mean_score  std_score        tempo\n",
       "0  pipe_1      0.6782   0.023928  2018.074381\n",
       "1  pipe_2      0.6866   0.025017  1987.571688\n",
       "2  pipe_3      0.6810   0.025884  2280.577999\n",
       "3  pipe_4      0.6400   0.027033  2012.687046"
      ]
     },
     "execution_count": 30,
     "metadata": {},
     "output_type": "execute_result"
    }
   ],
   "source": [
    "df_results_tfidf = pd.DataFrame(results_tfidf)\n",
    "df_results_tfidf"
   ]
  },
  {
   "cell_type": "code",
   "execution_count": 31,
   "metadata": {
    "colab": {
     "base_uri": "https://localhost:8080/",
     "height": 175
    },
    "id": "DQ3qqJ6j406Y",
    "outputId": "d97353af-4dae-486b-dfcd-c6bd3d5f4439"
   },
   "outputs": [
    {
     "data": {
      "text/html": [
       "<div>\n",
       "<style scoped>\n",
       "    .dataframe tbody tr th:only-of-type {\n",
       "        vertical-align: middle;\n",
       "    }\n",
       "\n",
       "    .dataframe tbody tr th {\n",
       "        vertical-align: top;\n",
       "    }\n",
       "\n",
       "    .dataframe thead th {\n",
       "        text-align: right;\n",
       "    }\n",
       "</style>\n",
       "<table border=\"1\" class=\"dataframe\">\n",
       "  <thead>\n",
       "    <tr style=\"text-align: right;\">\n",
       "      <th></th>\n",
       "      <th>modelo</th>\n",
       "      <th>mean_score</th>\n",
       "      <th>std_score</th>\n",
       "      <th>tempo</th>\n",
       "    </tr>\n",
       "  </thead>\n",
       "  <tbody>\n",
       "    <tr>\n",
       "      <th>0</th>\n",
       "      <td>pipe_5</td>\n",
       "      <td>0.6742</td>\n",
       "      <td>0.019641</td>\n",
       "      <td>1909.154082</td>\n",
       "    </tr>\n",
       "    <tr>\n",
       "      <th>1</th>\n",
       "      <td>pipe_6</td>\n",
       "      <td>0.6550</td>\n",
       "      <td>0.028468</td>\n",
       "      <td>2069.400807</td>\n",
       "    </tr>\n",
       "    <tr>\n",
       "      <th>2</th>\n",
       "      <td>pipe_7</td>\n",
       "      <td>0.6768</td>\n",
       "      <td>0.021535</td>\n",
       "      <td>2209.170980</td>\n",
       "    </tr>\n",
       "    <tr>\n",
       "      <th>3</th>\n",
       "      <td>pipe_8</td>\n",
       "      <td>0.6438</td>\n",
       "      <td>0.010703</td>\n",
       "      <td>2530.097937</td>\n",
       "    </tr>\n",
       "  </tbody>\n",
       "</table>\n",
       "</div>"
      ],
      "text/plain": [
       "   modelo  mean_score  std_score        tempo\n",
       "0  pipe_5      0.6742   0.019641  1909.154082\n",
       "1  pipe_6      0.6550   0.028468  2069.400807\n",
       "2  pipe_7      0.6768   0.021535  2209.170980\n",
       "3  pipe_8      0.6438   0.010703  2530.097937"
      ]
     },
     "execution_count": 31,
     "metadata": {},
     "output_type": "execute_result"
    }
   ],
   "source": [
    "df_results_count = pd.DataFrame(results_count)\n",
    "df_results_count"
   ]
  },
  {
   "cell_type": "markdown",
   "metadata": {
    "id": "1Wnu4Q4-z-l3"
   },
   "source": [
    "#### The best performance was seen in LinearSVC + TFIDF Vectorizer. "
   ]
  },
  {
   "cell_type": "markdown",
   "metadata": {
    "id": "f5kUdZKvPrYX"
   },
   "source": [
    "## Hyperparameter optimization"
   ]
  },
  {
   "cell_type": "code",
   "execution_count": 33,
   "metadata": {
    "id": "CkzwEYo5z-l5"
   },
   "outputs": [],
   "source": [
    "tfidf_vect = TfidfVectorizer(strip_accents='unicode', stop_words=stop_words, tokenizer=tokenize)\n",
    "#count_vect = CountVectorizer(strip_accents='unicode', stop_words=stop_words, tokenizer=tokenize)\n",
    "X_tfidf = tfidf_vect.fit_transform(X)"
   ]
  },
  {
   "cell_type": "code",
   "execution_count": 34,
   "metadata": {
    "id": "V7FrJN0AQDg_"
   },
   "outputs": [],
   "source": [
    "lr = OneVsRestClassifier(LogisticRegression(random_state=42, class_weight=class_weights_lula))\n",
    "svc = OneVsOneClassifier(LinearSVC(random_state=42, class_weight=class_weights_lula))\n",
    "rfc = OneVsOneClassifier(RandomForestClassifier(random_state=42, class_weight=class_weights_lula))\n",
    "xgb = XGBClassifier(random_state=42, scale_pos_weight=scale_pos_weight_lula)"
   ]
  },
  {
   "cell_type": "markdown",
   "metadata": {},
   "source": [
    "#### Declaring dictionary required for bayesian search"
   ]
  },
  {
   "cell_type": "code",
   "execution_count": 35,
   "metadata": {
    "id": "FH3Z3pKAPknR"
   },
   "outputs": [],
   "source": [
    "# Otimização dos parâmetros\n",
    "\n",
    "Search_lr = {'estimator__C': Real(1e-6, 1e+6, 'log-uniform'),\n",
    "             'estimator__penalty': Categorical(['none', 'l2']),\n",
    "             'estimator__max_iter':Integer(100, 2000)}\n",
    "\n",
    "search_linearsvc = {\"estimator__C\": Real(0.001, 1), \n",
    "                    \"estimator__multi_class\": Categorical(['ovr', 'crammer_singer']),\n",
    "                    \"estimator__max_iter\": Integer(1000, 4000)}\n",
    "\n",
    "search_rfc = {\"estimator__bootstrap\": Categorical([True, False]),\n",
    "              \"estimator__max_depth\": Integer(6, 20),\n",
    "              \"estimator__max_features\": Categorical(['auto', 'sqrt','log2']), \n",
    "              \"estimator__min_samples_leaf\": Integer(2, 10),\n",
    "              \"estimator__min_samples_split\": Integer(2, 10),\n",
    "              \"estimator__n_estimators\": Integer(100, 500)}\n",
    "\n",
    "search_xgb = {'learning_rate': Real(0.01, 1.0, 'log-uniform'),\n",
    "              'max_depth': Integer(1, 10),\n",
    "              'min_child_weight': Integer(1, 20),\n",
    "              'subsample': Real(0.1, 1.0),\n",
    "              'gamma': Integer(0, 5),\n",
    "              'colsample_bytree': Real(0.1, 1.0)}"
   ]
  },
  {
   "cell_type": "markdown",
   "metadata": {},
   "source": [
    "#### Checking possible hyperparameters to tune the models with Bayesian search."
   ]
  },
  {
   "cell_type": "code",
   "execution_count": 36,
   "metadata": {
    "id": "vSSBmx5jmD4l"
   },
   "outputs": [],
   "source": [
    "# Com search_lr\n",
    "\n",
    "#search_lr_count = BayesSearchCV(lr, search_lr, n_iter=100, cv=5)\n",
    "#search_lr_count.fit(X_count, y)\n",
    "#best_model_lr_count = search_lr_count.best_estimator_"
   ]
  },
  {
   "cell_type": "code",
   "execution_count": 37,
   "metadata": {
    "colab": {
     "base_uri": "https://localhost:8080/"
    },
    "id": "JxtspQDqmD4o",
    "outputId": "a7290c86-40b5-42cb-ad1a-53016e3f4725"
   },
   "outputs": [],
   "source": [
    "#print(best_model_lr_count)"
   ]
  },
  {
   "cell_type": "code",
   "execution_count": 38,
   "metadata": {
    "id": "TEVkIdQomD4r"
   },
   "outputs": [],
   "source": [
    "# Com search_linearsvc\n",
    "\n",
    "search_svc_count = BayesSearchCV(svc, search_linearsvc, n_iter=100, cv=5)\n",
    "search_svc_count.fit(X_tfidf, y)\n",
    "best_model_svc_count = search_svc_count.best_estimator_"
   ]
  },
  {
   "cell_type": "code",
   "execution_count": 39,
   "metadata": {
    "colab": {
     "base_uri": "https://localhost:8080/"
    },
    "id": "69yYnNfJmD4t",
    "outputId": "6f09dc99-28d8-488d-cad8-4c82ee5758d2"
   },
   "outputs": [
    {
     "name": "stdout",
     "output_type": "stream",
     "text": [
      "OneVsOneClassifier(estimator=LinearSVC(C=0.6623765665974997,\n",
      "                                       class_weight={-1.0: 2.7144408251900107,\n",
      "                                                     0.0: 0.7284382284382285,\n",
      "                                                     1.0: 0.7944073721004131},\n",
      "                                       multi_class='crammer_singer',\n",
      "                                       random_state=42))\n"
     ]
    }
   ],
   "source": [
    "print(best_model_svc_count)"
   ]
  },
  {
   "cell_type": "code",
   "execution_count": 105,
   "metadata": {
    "id": "CG1AgkqPmD4v"
   },
   "outputs": [],
   "source": [
    "# Com search_rfc\n",
    "\n",
    "#search_rfc_count = BayesSearchCV(rfc, search_rfc, n_iter=100, cv=5)\n",
    "#search_rfc_count.fit(X_count, y)\n",
    "#best_model_rfc_count = search_rfc_count.best_estimator_"
   ]
  },
  {
   "cell_type": "code",
   "execution_count": null,
   "metadata": {
    "colab": {
     "base_uri": "https://localhost:8080/"
    },
    "id": "aA49XHl_mD4z",
    "outputId": "b7b164a8-9cb9-4c3c-eb86-4401b95eaf98"
   },
   "outputs": [],
   "source": [
    "#print(best_model_rfc_count)"
   ]
  },
  {
   "cell_type": "code",
   "execution_count": null,
   "metadata": {
    "id": "1TcS5EvcmD45",
    "outputId": "8c23e0b8-ec20-4b45-ef43-e289776bebff"
   },
   "outputs": [],
   "source": [
    "# Com search_xgb\n",
    "\n",
    "#search_xgb_count = BayesSearchCV(xgb, search_xgb, n_iter=100, cv=5)\n",
    "#search_xgb_count.fit(X_count, y)\n",
    "#best_model_xgb_count = search_xgb_count.best_estimator_"
   ]
  },
  {
   "cell_type": "code",
   "execution_count": null,
   "metadata": {
    "id": "ojTQttulmD47",
    "outputId": "8c1b4669-c765-4672-ee24-1f707097dca6"
   },
   "outputs": [],
   "source": [
    "#print(best_model_xgb_count)"
   ]
  },
  {
   "cell_type": "markdown",
   "metadata": {},
   "source": [
    "#### Cross-validation of the best models found + tuned hyperparameters."
   ]
  },
  {
   "cell_type": "code",
   "execution_count": 44,
   "metadata": {
    "id": "bIyATgHmmD48"
   },
   "outputs": [],
   "source": [
    "# Pipelines com melhores hiperparâmetros para CountVectorizer\n",
    "\n",
    "# Pipeline 5 - CountVectorizer e LogisticRegression\n",
    "pipe_5 = Pipeline([('TfidfVectorizer', TfidfVectorizer(strip_accents='unicode', stop_words=stop_words, tokenizer=tokenize)),\n",
    "                   ('LogisticRegression', OneVsRestClassifier(LogisticRegression(C=2.554519062822183,\n",
    "                                                                                 max_iter=115,\n",
    "                                                                                 random_state=42,\n",
    "                                                                                 class_weight=class_weights_lula)))])\n",
    "\n",
    "# Pipeline 6 - CountVectorizer e SVC\n",
    "pipe_6 = Pipeline([('TfidfVectorizer', TfidfVectorizer(strip_accents='unicode', stop_words=stop_words, tokenizer=tokenize)),\n",
    "                   ('LinearSVC', OneVsOneClassifier(LinearSVC(C=0.6623765665974997,\n",
    "                                                              multi_class='crammer_singer',\n",
    "                                                              random_state=42,\n",
    "                                                              class_weight=class_weights_lula)))])\n",
    "\n",
    "# Pipeline 7 - CountVectorizer e RandomForestClassifier\n",
    "pipe_7 = Pipeline([('TfidfVectorizer', TfidfVectorizer(strip_accents='unicode', stop_words=stop_words, tokenizer=tokenize)),\n",
    "                   ('RandomForestClassifier', OneVsOneClassifier(RandomForestClassifier(bootstrap=False,\n",
    "                                                                                        max_depth=12,\n",
    "                                                                                        max_features='log2',\n",
    "                                                                                        min_samples_leaf=2,\n",
    "                                                                                        min_samples_split=4,\n",
    "                                                                                        n_estimators=500,\n",
    "                                                                                        random_state=42,\n",
    "                                                                                        class_weight=class_weights_lula)))])\n",
    "\n",
    "# Pipeline 8 - CountVectorizer e XGBClassifier\n",
    "pipe_8 = Pipeline([('CountVectorizer', CountVectorizer(strip_accents='unicode', stop_words=stop_words, tokenizer=tokenize)),\n",
    "                   ('XGBClassifier', XGBClassifier(objective='multi:softmax',\n",
    "                                                   num_class=3,\n",
    "                                                   predictor='gpu_predictor',\n",
    "                                                   tree_method='gpu_exact',\n",
    "                                                   colsample_bytree=,\n",
    "                                                   gamma=1,\n",
    "                                                   learning_rate=,\n",
    "                                                   max_depth=,\n",
    "                                                   random_state=42,\n",
    "                                                   scale_pos_weight=,\n",
    "                                                   subsample=))])"
   ]
  },
  {
   "cell_type": "code",
   "execution_count": 46,
   "metadata": {
    "id": "VB9iYmEFmD4-",
    "outputId": "34647623-9b5f-4e62-b5de-425bd48a7290"
   },
   "outputs": [],
   "source": [
    "# Validação cruzada com os pipelines contendo melhores hiperparâmetros de CountVectorizer\n",
    "\n",
    "pipe_tfidf = [pipe_5, pipe_6, pipe_7, pipe_8]\n",
    "results_tfidf = []\n",
    "model = 5\n",
    "\n",
    "for pipe in pipe_count:\n",
    "    initial_time = time.time()\n",
    "    scores = cross_val_score(pipe, X, y, cv=5, scoring='precision_micro', error_score='raise')\n",
    "    final_time = time.time()\n",
    "    time_gap = final_time - initial_time\n",
    "    results_tfidf.append({'model': 'pipe_'f'{model}', 'mean_score': scores.mean(), 'std_score': scores.std(), 'time': time_gap})\n",
    "    model += 1\n",
    "    if model > 8:\n",
    "        break"
   ]
  },
  {
   "cell_type": "code",
   "execution_count": null,
   "metadata": {
    "colab": {
     "base_uri": "https://localhost:8080/",
     "height": 175
    },
    "id": "hXjo23IGmD5A",
    "outputId": "9c4a41fa-55ee-4915-ccf2-c038eafa3abe"
   },
   "outputs": [],
   "source": [
    "df_resultados_best_tfidf = pd.DataFrame(results_count)\n",
    "df_resultados_best_tfidf"
   ]
  },
  {
   "cell_type": "markdown",
   "metadata": {
    "id": "uDfGumruz-mM"
   },
   "source": [
    "#### The model with the best performance was pipe_6:\n",
    "\n",
    "OneVsOneClassifier(LinearSVC(C=0.6623765665974997, multi_class='crammer_singer', random_state=42, class_weight=class_weights_lula))"
   ]
  },
  {
   "cell_type": "markdown",
   "metadata": {
    "id": "BHBNkUbnXGBu"
   },
   "source": [
    "### Performing tests with first round data using the best model found."
   ]
  },
  {
   "cell_type": "code",
   "execution_count": 65,
   "metadata": {
    "id": "d1ozVflSStZZ"
   },
   "outputs": [],
   "source": [
    "X_test_lula = lula_first_round['tweet_limpo']"
   ]
  },
  {
   "cell_type": "code",
   "execution_count": 66,
   "metadata": {
    "id": "8_H5p10EStTL"
   },
   "outputs": [],
   "source": [
    "pipe_best_lula = Pipeline([('TfidfVectorizer', TfidfVectorizer(strip_accents='unicode', stop_words=stop_words, tokenizer=tokenize)),\n",
    "                           ('LinearSVC', OneVsOneClassifier(LinearSVC(C=0.6623765665974997,\n",
    "                                                                      multi_class='crammer_singer',\n",
    "                                                                      random_state=42,\n",
    "                                                                      class_weight=class_weights_lula)))])\n",
    "pipe_best_lula.fit(X, y)\n",
    "y_pred_lula = pipe_best_lula.predict(X_test_lula)"
   ]
  },
  {
   "cell_type": "code",
   "execution_count": 67,
   "metadata": {
    "colab": {
     "base_uri": "https://localhost:8080/"
    },
    "id": "GEI50bJPStLT",
    "outputId": "6aea9450-a56b-4390-becf-267f6380aa17"
   },
   "outputs": [
    {
     "data": {
      "text/plain": [
       " 0.0    1021\n",
       " 1.0     831\n",
       "-1.0     148\n",
       "dtype: int64"
      ]
     },
     "execution_count": 67,
     "metadata": {},
     "output_type": "execute_result"
    }
   ],
   "source": [
    "pd.DataFrame(y_pred_lula.tolist()).value_counts()"
   ]
  },
  {
   "cell_type": "code",
   "execution_count": 4,
   "metadata": {
    "colab": {
     "base_uri": "https://localhost:8080/"
    },
    "id": "1Y7zN4z2UgQ9",
    "outputId": "4d9b4c40-a9b6-4ddc-ed75-e8d10122381f"
   },
   "outputs": [
    {
     "name": "stdout",
     "output_type": "stream",
     "text": [
      "Approval percentage: 41.55%\n",
      "Neutral percentage: 51.05%\n",
      "Reproval percentage: 7.40%\n"
     ]
    }
   ],
   "source": [
    "print(f'Approval percentage: {831/2000 * 100 :.2f}%')\n",
    "print(f'Neutral percentage: {1021/2000 * 100 :.2f}%')\n",
    "print(f'Reproval percentage: {148/2000 * 100 :.2f}%')"
   ]
  },
  {
   "cell_type": "code",
   "execution_count": 69,
   "metadata": {
    "id": "gq5bPAwAz-mX",
    "outputId": "84bb2868-19eb-4839-b49d-3f3aacd83295"
   },
   "outputs": [
    {
     "data": {
      "image/png": "[encoded data removed]",
      "text/plain": [
       "<Figure size 640x480 with 2 Axes>"
      ]
     },
     "metadata": {},
     "output_type": "display_data"
    }
   ],
   "source": [
    "# Matriz de confusão de Lula\n",
    "\n",
    "lula_first_round['sentiment_manual'] = lula_first_round['sentiment_manual'].astype('int64')\n",
    "y_test_lula = lula_first_round['sentiment_manual']\n",
    "\n",
    "cnf_matrix = confusion_matrix(y_test_lula, y_pred_lula)\n",
    "cnf_matrix = cnf_matrix.astype('float') / cnf_matrix.sum(axis=1)[:, np.newaxis]\n",
    "disp = ConfusionMatrixDisplay(cnf_matrix, display_labels=[-1, 0, 1])\n",
    "disp.plot(cmap = 'Blues')\n",
    "plt.savefig('lula_CM_pipe_svc.png', dpi=500)\n",
    "plt.grid(False)"
   ]
  },
  {
   "cell_type": "code",
   "execution_count": 70,
   "metadata": {
    "id": "cpnvcyr_z-mZ",
    "outputId": "c549e70e-bf7a-41e0-e368-17d6b0a96e8e"
   },
   "outputs": [
    {
     "name": "stdout",
     "output_type": "stream",
     "text": [
      "              precision    recall  f1-score   support\n",
      "\n",
      "          -1      0.986     0.629     0.768       232\n",
      "           0      0.872     0.952     0.910       935\n",
      "           1      0.924     0.922     0.923       833\n",
      "\n",
      "    accuracy                          0.902      2000\n",
      "   macro avg      0.927     0.834     0.867      2000\n",
      "weighted avg      0.907     0.902     0.899      2000\n",
      "\n"
     ]
    }
   ],
   "source": [
    "print(classification_report(y_test_lula, y_pred_lula, digits=3))"
   ]
  },
  {
   "cell_type": "markdown",
   "metadata": {
    "id": "DMYMcpa7s5De"
   },
   "source": [
    "## Bolsonaro"
   ]
  },
  {
   "cell_type": "code",
   "execution_count": 71,
   "metadata": {
    "id": "NOCa2O1gncwS"
   },
   "outputs": [],
   "source": [
    "X = bolsonaro_man['cleaned_tweet']\n",
    "y = bolsonaro_man['sentiment_manual']\n",
    "\n",
    "X_train, X_test, y_train, y_test = train_test_split(X, y, test_size=.2, random_state=42)"
   ]
  },
  {
   "cell_type": "markdown",
   "metadata": {},
   "source": [
    "#### Applying class_weight as a way of balancing between the Positive, Neutral, and Negative classes."
   ]
  },
  {
   "cell_type": "code",
   "execution_count": 72,
   "metadata": {
    "id": "sNXVYhrpyBcM",
    "outputId": "a539f269-3c80-4b7a-aefb-e5dbe3f232ee"
   },
   "outputs": [
    {
     "data": {
      "text/plain": [
       "{-1.0: 0.8100879554837551, 0.0: 0.9749405919205012, 1.0: 1.351602276130578}"
      ]
     },
     "execution_count": 72,
     "metadata": {},
     "output_type": "execute_result"
    }
   ],
   "source": [
    "# Class weight de Bolsonaro\n",
    "\n",
    "class_weights_bolsonaro = compute_class_weight(class_weight = 'balanced',\n",
    "                                               classes = np.unique(y),\n",
    "                                               y = y)\n",
    "class_weights_bolsonaro = dict(zip(np.unique(y), class_weights_bolsonaro))\n",
    "class_weights_bolsonaro"
   ]
  },
  {
   "cell_type": "code",
   "execution_count": 73,
   "metadata": {
    "id": "c2EyuRI5z-md",
    "outputId": "4ee817cc-c915-4055-c85b-8875e93fd5bf"
   },
   "outputs": [
    {
     "data": {
      "text/plain": [
       "-1.0    1857\n",
       " 0.0    1543\n",
       " 1.0    1113\n",
       "Name: sentimento_manual, dtype: int64"
      ]
     },
     "execution_count": 73,
     "metadata": {},
     "output_type": "execute_result"
    }
   ],
   "source": [
    "y.value_counts()"
   ]
  },
  {
   "cell_type": "code",
   "execution_count": 3,
   "metadata": {},
   "outputs": [
    {
     "name": "stdout",
     "output_type": "stream",
     "text": [
      "Approval percentage: 24.66%\n",
      "Neutral percentage: 34.19%\n",
      "Reproval percentage: 41.15%\n"
     ]
    }
   ],
   "source": [
    "print(f'Approval percentage: {1113/4513 * 100 :.2f}%')\n",
    "print(f'Neutral percentage: {1543/4513 * 100 :.2f}%')\n",
    "print(f'Reproval percentage: {1857/4513 * 100 :.2f}%')"
   ]
  },
  {
   "cell_type": "code",
   "execution_count": 74,
   "metadata": {
    "id": "WK5ygUOBz-me",
    "outputId": "6f517c17-e7c8-4e24-97ab-6788f3e147a6"
   },
   "outputs": [
    {
     "data": {
      "text/plain": [
       "2.6049382716049383"
      ]
     },
     "execution_count": 74,
     "metadata": {},
     "output_type": "execute_result"
    }
   ],
   "source": [
    "# Razão entre o número de ocorrências da classe negativa e as classes positivas\n",
    "\n",
    "scale_pos_weight_bolsonaro = (281 + 141) / 162\n",
    "scale_pos_weight_bolsonaro"
   ]
  },
  {
   "cell_type": "markdown",
   "metadata": {},
   "source": [
    "#### We will use (1) Logistic Regression, (2) LinearSVC, (3) RandomForestClassifier and (4) XGBoost as possible ways to classify the Tweets, both for TFIDF word vectors and CountVectorizer."
   ]
  },
  {
   "cell_type": "code",
   "execution_count": 75,
   "metadata": {
    "id": "ODordwmre9RF"
   },
   "outputs": [],
   "source": [
    "# Pipeline 1 - TfidfVectorizer e LogisticRegression\n",
    "pipe_1 = Pipeline([('TfidfVectorizer', TfidfVectorizer(strip_accents='unicode', stop_words=stop_words, tokenizer=tokenize)),\n",
    "                   ('LogisticRegression', OneVsRestClassifier(LogisticRegression(random_state=42,\n",
    "                                                                                 class_weight=class_weights_bolsonaro)))])\n",
    "\n",
    "# Pipeline 2 - TfidfVectorizer e SVC\n",
    "pipe_2 = Pipeline([('TfidfVectorizer', TfidfVectorizer(strip_accents='unicode', stop_words=stop_words, tokenizer=tokenize)),\n",
    "                   ('LinearSVC', OneVsOneClassifier(LinearSVC(random_state=42,\n",
    "                                                              class_weight=class_weights_bolsonaro)))])\n",
    "\n",
    "# Pipeline 3 - TfidfVectorizer e RandomForestClassifier\n",
    "pipe_3 = Pipeline([('TfidfVectorizer', TfidfVectorizer(strip_accents='unicode', stop_words=stop_words, tokenizer=tokenize)),\n",
    "                   ('RandomForestClassifier', OneVsOneClassifier(RandomForestClassifier(random_state=42,\n",
    "                                                                                        class_weight=class_weights_bolsonaro)))])\n",
    "\n",
    "# Pipeline 4 - TfidfVectorizer e XGBClassifier\n",
    "pipe_4 = Pipeline([('TfidfVectorizer', TfidfVectorizer(strip_accents='unicode', stop_words=stop_words, tokenizer=tokenize)),\n",
    "                   ('XGBClassifier', XGBClassifier(random_state=42,\n",
    "                                                   scale_pos_weight=scale_pos_weight_bolsonaro))])\n",
    "\n",
    "\n",
    "# Pipeline 5 - CountVectorizer e LogisticRegression\n",
    "pipe_5 = Pipeline([('CountVectorizer', CountVectorizer(strip_accents='unicode', stop_words=stop_words, tokenizer=tokenize)),\n",
    "                   ('LogisticRegression', OneVsRestClassifier(LogisticRegression(random_state=42,\n",
    "                                                                                 class_weight=class_weights_bolsonaro)))])\n",
    "\n",
    "# Pipeline 6 - CountVectorizer e SVC\n",
    "pipe_6 = Pipeline([('CountVectorizer', CountVectorizer(strip_accents='unicode', stop_words=stop_words, tokenizer=tokenize)),\n",
    "                   ('LinearSVC', OneVsOneClassifier(LinearSVC(random_state=42,\n",
    "                                                              class_weight=class_weights_bolsonaro)))])\n",
    "\n",
    "# Pipeline 7 - CountVectorizer e RandomForestClassifier\n",
    "pipe_7 = Pipeline([('CountVectorizer', CountVectorizer(strip_accents='unicode', stop_words=stop_words, tokenizer=tokenize)),\n",
    "                   ('RandomForestClassifier', OneVsOneClassifier(RandomForestClassifier(random_state=42,\n",
    "                                                                                        class_weight=class_weights_bolsonaro)))])\n",
    "\n",
    "# Pipeline 8 - CountVectorizer e XGBClassifier\n",
    "pipe_8 = Pipeline([('CountVectorizer', CountVectorizer(strip_accents='unicode', stop_words=stop_words, tokenizer=tokenize)),\n",
    "                   ('XGBClassifier', XGBClassifier(random_state=42,\n",
    "                                                scale_pos_weight=scale_pos_weight_bolsonaro))])"
   ]
  },
  {
   "cell_type": "markdown",
   "metadata": {},
   "source": [
    "### Cross-validation for TFIDF"
   ]
  },
  {
   "cell_type": "code",
   "execution_count": 76,
   "metadata": {
    "id": "7DO6ldiIe9OO",
    "outputId": "d6437c13-5bf6-4dd1-c616-69a13aca0df1"
   },
   "outputs": [],
   "source": [
    "# Validação cruzada com os pipelines contendo TfidfVectorizer\n",
    "\n",
    "pipe_tfidf = [pipe_1, pipe_2, pipe_3, pipe_4]\n",
    "results_tfidf = []\n",
    "model = 1\n",
    "\n",
    "for pipe in pipe_tfidf:\n",
    "    initial_time = time.time()\n",
    "    scores = cross_val_score(pipe, X, y, cv=5)\n",
    "    final_time = time.time()\n",
    "    time_gap = final_time - initial_time\n",
    "    results_tfidf.append({'model': 'pipe_'f'{model}', 'mean_score': scores.mean(), 'std_score': scores.std(), 'time': time_gap})\n",
    "    model += 1\n",
    "    if model > 4:\n",
    "        break"
   ]
  },
  {
   "cell_type": "markdown",
   "metadata": {},
   "source": [
    "### Cross-validation for CountVectorizer"
   ]
  },
  {
   "cell_type": "code",
   "execution_count": 77,
   "metadata": {
    "id": "1yt1kkzCBmNp",
    "outputId": "cc000b5f-ff03-41bc-c135-d58fcab9ce5c"
   },
   "outputs": [],
   "source": [
    "# Validação cruzada com os pipelines contendo CountVectorizer\n",
    "\n",
    "pipe_count = [pipe_5, pipe_6, pipe_7, pipe_8]\n",
    "results_count = []\n",
    "model = 5\n",
    "\n",
    "for pipe in pipe_count:\n",
    "    initial_time = time.time()\n",
    "    scores = cross_val_score(pipe, X, y, cv=5)\n",
    "    final_time = time.time()\n",
    "    time_gap = final_time - initial_time\n",
    "    results_count.append({'model': 'pipe_'f'{model}', 'mean_score': scores.mean(), 'std_score': scores.std(), 'time': time_gap})\n",
    "    model += 1\n",
    "    if model > 8:\n",
    "        break"
   ]
  },
  {
   "cell_type": "code",
   "execution_count": 78,
   "metadata": {
    "colab": {
     "base_uri": "https://localhost:8080/",
     "height": 175
    },
    "id": "zN6tp_JL55Cy",
    "outputId": "6621d0a9-8766-4260-c7e0-2b28a87e8a05"
   },
   "outputs": [
    {
     "data": {
      "text/html": [
       "<div>\n",
       "<style scoped>\n",
       "    .dataframe tbody tr th:only-of-type {\n",
       "        vertical-align: middle;\n",
       "    }\n",
       "\n",
       "    .dataframe tbody tr th {\n",
       "        vertical-align: top;\n",
       "    }\n",
       "\n",
       "    .dataframe thead th {\n",
       "        text-align: right;\n",
       "    }\n",
       "</style>\n",
       "<table border=\"1\" class=\"dataframe\">\n",
       "  <thead>\n",
       "    <tr style=\"text-align: right;\">\n",
       "      <th></th>\n",
       "      <th>modelo</th>\n",
       "      <th>mean_score</th>\n",
       "      <th>std_score</th>\n",
       "      <th>tempo</th>\n",
       "    </tr>\n",
       "  </thead>\n",
       "  <tbody>\n",
       "    <tr>\n",
       "      <th>0</th>\n",
       "      <td>pipe_1</td>\n",
       "      <td>0.612008</td>\n",
       "      <td>0.013693</td>\n",
       "      <td>1917.830981</td>\n",
       "    </tr>\n",
       "    <tr>\n",
       "      <th>1</th>\n",
       "      <td>pipe_2</td>\n",
       "      <td>0.604025</td>\n",
       "      <td>0.019831</td>\n",
       "      <td>1836.767961</td>\n",
       "    </tr>\n",
       "    <tr>\n",
       "      <th>2</th>\n",
       "      <td>pipe_3</td>\n",
       "      <td>0.588737</td>\n",
       "      <td>0.012240</td>\n",
       "      <td>1846.679909</td>\n",
       "    </tr>\n",
       "    <tr>\n",
       "      <th>3</th>\n",
       "      <td>pipe_4</td>\n",
       "      <td>0.574551</td>\n",
       "      <td>0.022456</td>\n",
       "      <td>1916.870323</td>\n",
       "    </tr>\n",
       "  </tbody>\n",
       "</table>\n",
       "</div>"
      ],
      "text/plain": [
       "   modelo  mean_score  std_score        tempo\n",
       "0  pipe_1    0.612008   0.013693  1917.830981\n",
       "1  pipe_2    0.604025   0.019831  1836.767961\n",
       "2  pipe_3    0.588737   0.012240  1846.679909\n",
       "3  pipe_4    0.574551   0.022456  1916.870323"
      ]
     },
     "execution_count": 78,
     "metadata": {},
     "output_type": "execute_result"
    }
   ],
   "source": [
    "df_results_tfidf = pd.DataFrame(results_tfidf)\n",
    "df_results_tfidf"
   ]
  },
  {
   "cell_type": "code",
   "execution_count": 79,
   "metadata": {
    "colab": {
     "base_uri": "https://localhost:8080/",
     "height": 175
    },
    "id": "pHK5VmVbls_-",
    "outputId": "71857e0e-0bc5-4746-9587-d687a5618c14"
   },
   "outputs": [
    {
     "data": {
      "text/html": [
       "<div>\n",
       "<style scoped>\n",
       "    .dataframe tbody tr th:only-of-type {\n",
       "        vertical-align: middle;\n",
       "    }\n",
       "\n",
       "    .dataframe tbody tr th {\n",
       "        vertical-align: top;\n",
       "    }\n",
       "\n",
       "    .dataframe thead th {\n",
       "        text-align: right;\n",
       "    }\n",
       "</style>\n",
       "<table border=\"1\" class=\"dataframe\">\n",
       "  <thead>\n",
       "    <tr style=\"text-align: right;\">\n",
       "      <th></th>\n",
       "      <th>modelo</th>\n",
       "      <th>mean_score</th>\n",
       "      <th>std_score</th>\n",
       "      <th>tempo</th>\n",
       "    </tr>\n",
       "  </thead>\n",
       "  <tbody>\n",
       "    <tr>\n",
       "      <th>0</th>\n",
       "      <td>pipe_5</td>\n",
       "      <td>0.603363</td>\n",
       "      <td>0.018533</td>\n",
       "      <td>1801.689469</td>\n",
       "    </tr>\n",
       "    <tr>\n",
       "      <th>1</th>\n",
       "      <td>pipe_6</td>\n",
       "      <td>0.581870</td>\n",
       "      <td>0.015537</td>\n",
       "      <td>1824.858617</td>\n",
       "    </tr>\n",
       "    <tr>\n",
       "      <th>2</th>\n",
       "      <td>pipe_7</td>\n",
       "      <td>0.590066</td>\n",
       "      <td>0.016557</td>\n",
       "      <td>2070.264518</td>\n",
       "    </tr>\n",
       "    <tr>\n",
       "      <th>3</th>\n",
       "      <td>pipe_8</td>\n",
       "      <td>0.576987</td>\n",
       "      <td>0.023965</td>\n",
       "      <td>1919.999786</td>\n",
       "    </tr>\n",
       "  </tbody>\n",
       "</table>\n",
       "</div>"
      ],
      "text/plain": [
       "   modelo  mean_score  std_score        tempo\n",
       "0  pipe_5    0.603363   0.018533  1801.689469\n",
       "1  pipe_6    0.581870   0.015537  1824.858617\n",
       "2  pipe_7    0.590066   0.016557  2070.264518\n",
       "3  pipe_8    0.576987   0.023965  1919.999786"
      ]
     },
     "execution_count": 79,
     "metadata": {},
     "output_type": "execute_result"
    }
   ],
   "source": [
    "df_results_count = pd.DataFrame(results_count)\n",
    "df_results_count"
   ]
  },
  {
   "cell_type": "markdown",
   "metadata": {
    "id": "ulJU_YtPz-mo"
   },
   "source": [
    "#### Since the performances were similar for TfidfVectorizer and CountVectorizer, the model used will be with CountVectorizer due to requiring less computational capacity."
   ]
  },
  {
   "cell_type": "code",
   "execution_count": 81,
   "metadata": {
    "id": "NMjQ1Fcfz-mp"
   },
   "outputs": [],
   "source": [
    "tfidf_vect = TfidfVectorizer(strip_accents='unicode', stop_words=stop_words, tokenizer=tokenize)\n",
    "X_tfidf = tfidf_vect.fit_transform(X)"
   ]
  },
  {
   "cell_type": "code",
   "execution_count": 82,
   "metadata": {
    "id": "5MKFXsRvz-mq"
   },
   "outputs": [],
   "source": [
    "lr = OneVsRestClassifier(LogisticRegression(random_state=42, class_weight=class_weights_bolsonaro))\n",
    "svc = OneVsOneClassifier(LinearSVC(random_state=42, class_weight=class_weights_bolsonaro))\n",
    "rfc = OneVsOneClassifier(RandomForestClassifier(random_state=42, class_weight=class_weights_bolsonaro))\n",
    "xgb = XGBClassifier(random_state=42, scale_pos_weight=scale_pos_weight_bolsonaro)"
   ]
  },
  {
   "cell_type": "markdown",
   "metadata": {},
   "source": [
    "## Hyperparameter optimization"
   ]
  },
  {
   "cell_type": "markdown",
   "metadata": {},
   "source": [
    "#### Declaring dictionary required for bayesian search"
   ]
  },
  {
   "cell_type": "code",
   "execution_count": 83,
   "metadata": {
    "id": "Q5FdcCqbz-mr"
   },
   "outputs": [],
   "source": [
    "# Otimização dos parâmetros\n",
    "\n",
    "search_lr = {'estimator__C': Real(1e-6, 1e+6, 'log-uniform'),\n",
    "             'estimator__penalty': Categorical(['none', 'l2']),\n",
    "             'estimator__max_iter':Integer(100, 2000)}\n",
    "\n",
    "#search_linearsvc = {\"estimator__C\": Real(0.001, 1), \n",
    "#                    \"estimator__multi_class\": Categorical(['ovr', 'crammer_singer']),\n",
    "#                    \"estimator__max_iter\": Integer(1000, 4000)}\n",
    "\n",
    "#search_rfc = {\"estimator__bootstrap\": Categorical([True, False]),\n",
    "#              \"estimator__max_depth\": Integer(6, 20),\n",
    "#              \"estimator__max_features\": Categorical(['auto', 'sqrt','log2']), \n",
    "#              \"estimator__min_samples_leaf\": Integer(2, 10),\n",
    "#              \"estimator__min_samples_split\": Integer(2, 10),\n",
    "#              \"estimator__n_estimators\": Integer(100, 500)}\n",
    "\n",
    "#search_xgb = {'learning_rate': Real(0.01, 1.0, 'log-uniform'),\n",
    "#              'max_depth': Integer(1, 10),\n",
    "#              'min_child_weight': Integer(1, 20),\n",
    "#              'subsample': Real(0.1, 1.0),\n",
    "#              'gamma': Integer(0, 5),\n",
    "#              'colsample_bytree': Real(0.1, 1.0)}"
   ]
  },
  {
   "cell_type": "markdown",
   "metadata": {},
   "source": [
    "#### Checking possible hyperparameters to tune the models with Bayesian search."
   ]
  },
  {
   "cell_type": "code",
   "execution_count": 84,
   "metadata": {
    "id": "HOl5F20gz-mt"
   },
   "outputs": [],
   "source": [
    "# Com search_lr\n",
    "\n",
    "search_lr_tfidf = BayesSearchCV(lr, search_lr, n_iter=100, cv=5)\n",
    "search_lr_tfidf.fit(X_tfidf, y)\n",
    "best_model_lr_tfidf = search_lr_tfidf.best_estimator_"
   ]
  },
  {
   "cell_type": "code",
   "execution_count": 86,
   "metadata": {
    "id": "KYz-d3unz-mu",
    "outputId": "89cc5e08-7696-4019-f157-7b05fdc82478"
   },
   "outputs": [
    {
     "name": "stdout",
     "output_type": "stream",
     "text": [
      "OneVsRestClassifier(estimator=LogisticRegression(C=1.4123362540660627,\n",
      "                                                 class_weight={-1.0: 0.8100879554837551,\n",
      "                                                               0.0: 0.9749405919205012,\n",
      "                                                               1.0: 1.351602276130578},\n",
      "                                                 max_iter=125,\n",
      "                                                 random_state=42))\n"
     ]
    }
   ],
   "source": [
    "print(best_model_lr_tfidf)"
   ]
  },
  {
   "cell_type": "code",
   "execution_count": null,
   "metadata": {
    "id": "U_85RZwXz-mw"
   },
   "outputs": [],
   "source": [
    "# Com search_svc\n",
    "\n",
    "#search_svc_count = BayesSearchCV(svc, search_linearsvc, n_iter=100, cv=5)\n",
    "#search_svc_count.fit(X_count, y)\n",
    "#best_model_svc_count = search_svc_count.best_estimator_"
   ]
  },
  {
   "cell_type": "code",
   "execution_count": null,
   "metadata": {
    "id": "71SgQLFRz-my",
    "outputId": "1eaec9f9-8af8-437a-8757-67e7efc1ec60"
   },
   "outputs": [],
   "source": [
    "#print(best_model_svc_count)"
   ]
  },
  {
   "cell_type": "code",
   "execution_count": null,
   "metadata": {
    "id": "00H4FptEz-m0"
   },
   "outputs": [],
   "source": [
    "# Com search_rfc\n",
    "\n",
    "#search_rfc_count = BayesSearchCV(rfc, search_rfc, n_iter=100, cv=5)\n",
    "#search_rfc_count.fit(X_count, y)\n",
    "#best_model_rfc_count = search_rfc_count.best_estimator_"
   ]
  },
  {
   "cell_type": "code",
   "execution_count": null,
   "metadata": {
    "id": "VUxZxaMUz-m1",
    "outputId": "92b0cc5e-4c8b-46a5-da7b-cd9f515f4fc4"
   },
   "outputs": [],
   "source": [
    "#print(best_model_rfc_count)"
   ]
  },
  {
   "cell_type": "code",
   "execution_count": null,
   "metadata": {
    "id": "e-x4nxmWz-m4",
    "outputId": "2beb13c2-f1c5-464e-aa50-2cb0531d789a"
   },
   "outputs": [],
   "source": [
    "# Com search_xgb\n",
    "\n",
    "#search_xgb_count = BayesSearchCV(xgb, search_xgb, n_iter=100, cv=5)\n",
    "#search_xgb_count.fit(X_count, y)\n",
    "#best_model_xgb_count = search_xgb_count.best_estimator_"
   ]
  },
  {
   "cell_type": "code",
   "execution_count": null,
   "metadata": {
    "id": "MT_bJqIHz-m7",
    "outputId": "c48e8500-3ca8-447c-a505-ff6f1b8c0d3e"
   },
   "outputs": [],
   "source": [
    "#print(best_model_xgb_count)"
   ]
  },
  {
   "cell_type": "markdown",
   "metadata": {},
   "source": [
    "#### Cross-validation of the best models found + tuned hyperparameters."
   ]
  },
  {
   "cell_type": "code",
   "execution_count": null,
   "metadata": {
    "id": "ZYHi2Qpbz-m_"
   },
   "outputs": [],
   "source": [
    "# Pipelines com melhores hiperparâmetros para CountVectorizer\n",
    "\n",
    "# Pipeline 5 - CountVectorizer e LogisticRegression\n",
    "pipe_5 = Pipeline([('TfidfVectorizer', TfidfVectorizer(strip_accents='unicode', stop_words=stop_words, tokenizer=tokenize)),\n",
    "                   ('LogisticRegression', OneVsRestClassifier(LogisticRegression(random_state=42,\n",
    "                                                                                 class_weight=class_weights_bolsonaro,\n",
    "                                                                                 C=1.4123362540660627,\n",
    "                                                                                 max_iter=125)))])\n",
    "\n",
    "# Pipeline 6 - CountVectorizer e SVC\n",
    "pipe_6 = Pipeline([('TfidfVectorizer', TfidfVectorizer(strip_accents='unicode', stop_words=stop_words, tokenizer=tokenize)),\n",
    "                   ('LinearSVC', OneVsOneClassifier(LinearSVC(random_state=42,\n",
    "                                                              class_weight=class_weights_bolsonaro,\n",
    "                                                              C=0.8472255528060311,\n",
    "                                                              max_iter=3955,\n",
    "                                                              multi_class='crammer_singer')))])\n",
    "\n",
    "\n",
    "# Pipeline 7 - CountVectorizer e RandomForestClassifier\n",
    "pipe_7 = Pipeline([('CountVectorizer', CountVectorizer(strip_accents='unicode', stop_words=stop_words, tokenizer=tokenize)),\n",
    "                   ('RandomForestClassifier', OneVsOneClassifier(RandomForestClassifier(bootstrap=False,\n",
    "                                                                                        max_depth=17,\n",
    "                                                                                        max_features='auto',\n",
    "                                                                                        min_samples_leaf=2,\n",
    "                                                                                        n_estimators=500,\n",
    "                                                                                        random_state=42,\n",
    "                                                                                        class_weight=class_weights_bolsonaro)))])\n",
    "\n",
    "\n",
    "# Pipeline 8 - CountVectorizer e XGBClassifier\n",
    "pipe_8 = Pipeline([('CountVectorizer', CountVectorizer(strip_accents='unicode', stop_words=stop_words, tokenizer=tokenize)),\n",
    "                   ('XGBClassifier', XGBClassifier(objective='multi:softmax',\n",
    "                                                   num_class=3,\n",
    "                                                   predictor='gpu_predictor',\n",
    "                                                   tree_method='gpu_exact',\n",
    "                                                   colsample_bytree=0.1,\n",
    "                                                   gamma=1,\n",
    "                                                   learning_rate=0.28644105873540865,\n",
    "                                                   max_depth=10,\n",
    "                                                   random_state=42,\n",
    "                                                   scale_pos_weight=2.6049382716049383,\n",
    "                                                   subsample=0.8637713756247554))])"
   ]
  },
  {
   "cell_type": "code",
   "execution_count": null,
   "metadata": {
    "id": "Xa0yZJ41z-nD",
    "outputId": "a0e3de23-1884-4a78-9c3e-0362bfc2a4c7"
   },
   "outputs": [],
   "source": [
    "# Validação cruzada com os pipelines contendo melhores hiperparâmetros de CountVectorizer\n",
    "\n",
    "pipe_count = [pipe_5, pipe_6, pipe_7, pipe_8]\n",
    "results_count = []\n",
    "model = 5\n",
    "\n",
    "for pipe in pipe_count:\n",
    "    initial_time = time.time()\n",
    "    scores = cross_val_score(pipe, X, y, cv=5, scoring='precision_micro', error_score='raise')\n",
    "    final_time = time.time()\n",
    "    time_gap = final_time - initial_time\n",
    "    results_count.append({'model': 'pipe_'f'{model}', 'mean_score': scores.mean(), 'std_score': scores.std(), 'time': time_gap})\n",
    "    model += 1\n",
    "    if model > 8:\n",
    "        break"
   ]
  },
  {
   "cell_type": "code",
   "execution_count": null,
   "metadata": {
    "id": "RD0WAf_zyo5i",
    "outputId": "d6a5fe84-7bee-4c70-806e-580bfd848787"
   },
   "outputs": [],
   "source": [
    "df_resultados_best_count = pd.DataFrame(results_count)\n",
    "df_resultados_best_count"
   ]
  },
  {
   "cell_type": "markdown",
   "metadata": {
    "id": "ublttw0mz-nI"
   },
   "source": [
    "#### The model with the best performance was pipe_1:\n",
    "\n",
    "OneVsRestClassifier(estimator=LogisticRegression(C=1.4123362540660627,class_weight={-1.0: 0.8100879554837551,\n",
    "0.0: 0.9749405919205012, 1.0: 1.351602276130578}, max_iter=125, random_state=42))"
   ]
  },
  {
   "cell_type": "markdown",
   "metadata": {
    "id": "lHJKuPUARbJ0"
   },
   "source": [
    "#### Performing tests with first round data using the best model found"
   ]
  },
  {
   "cell_type": "code",
   "execution_count": 97,
   "metadata": {
    "id": "iii5zKjnRbJ6"
   },
   "outputs": [],
   "source": [
    "bolsonaro_first_round = bolsonaro_man.drop('hashtag', axis = 1)\n",
    "bolsonaro_first_round = bolsonaro_first_round.dropna()\n"
   ]
  },
  {
   "cell_type": "code",
   "execution_count": 98,
   "metadata": {
    "id": "1R73DtnoRbJ_"
   },
   "outputs": [],
   "source": [
    "X_test_bolsonaro = bolsonaro_first_round['tweet_limpo']"
   ]
  },
  {
   "cell_type": "code",
   "execution_count": 99,
   "metadata": {
    "colab": {
     "base_uri": "https://localhost:8080/"
    },
    "id": "8xbeLrbSRbKB",
    "outputId": "f013fd8d-3fb9-4970-d0db-e2906770f567"
   },
   "outputs": [],
   "source": [
    "pipe_best_bolsonaro = Pipeline([('TfidfVectorizer', TfidfVectorizer(strip_accents='unicode', stop_words=stop_words, tokenizer=tokenize)),\n",
    "                                ('LogisticRegression', OneVsRestClassifier(LogisticRegression(random_state=42,\n",
    "                                                                                 class_weight=class_weights_bolsonaro,\n",
    "                                                                                 C=1.4123362540660627,\n",
    "                                                                                 max_iter=125)))])\n",
    "\n",
    "pipe_best_bolsonaro.fit(X, y)\n",
    "y_pred_bolsonaro = pipe_best_bolsonaro.predict(X_test_bolsonaro)"
   ]
  },
  {
   "cell_type": "code",
   "execution_count": 100,
   "metadata": {
    "colab": {
     "base_uri": "https://localhost:8080/"
    },
    "id": "0DnUCfrcRbKE",
    "outputId": "d0bda967-0a82-42d7-8052-7747772214aa"
   },
   "outputs": [
    {
     "data": {
      "text/plain": [
       "-1.0    860\n",
       " 0.0    704\n",
       " 1.0    436\n",
       "dtype: int64"
      ]
     },
     "execution_count": 100,
     "metadata": {},
     "output_type": "execute_result"
    }
   ],
   "source": [
    "pd.DataFrame(y_pred_bolsonaro.tolist()).value_counts()"
   ]
  },
  {
   "cell_type": "code",
   "execution_count": 1,
   "metadata": {
    "colab": {
     "base_uri": "https://localhost:8080/"
    },
    "id": "Gl_4nhEWRbKI",
    "outputId": "605d0c91-0bc6-40d3-a917-53e82eeff672"
   },
   "outputs": [
    {
     "name": "stdout",
     "output_type": "stream",
     "text": [
      "Approval percentage: 21.80%\n",
      "Neutral percentage: 35.20%\n",
      "Rejection percentage: 43.00%\n"
     ]
    }
   ],
   "source": [
    "print(f'Approval percentage: {436/2000 * 100 :.2f}%')\n",
    "print(f'Neutral percentage: {704/2000 * 100 :.2f}%')\n",
    "print(f'Rejection percentage: {860/2000 * 100 :.2f}%')"
   ]
  },
  {
   "cell_type": "code",
   "execution_count": 102,
   "metadata": {
    "id": "tuqUNYPPz-nS",
    "outputId": "4ce50cfc-5cb6-482b-fd12-fe16534b2819"
   },
   "outputs": [
    {
     "data": {
      "image/png": "[encoded data removed]",
      "text/plain": [
       "<Figure size 640x480 with 2 Axes>"
      ]
     },
     "metadata": {},
     "output_type": "display_data"
    }
   ],
   "source": [
    "# Matriz de confusão de Bolsonaro\n",
    "\n",
    "bolsonaro_first_round['sentiment_manual'] = bolsonaro_first_round['sentiment_manual'].astype('int64')\n",
    "y_test_lula = bolsonaro_first_round['sentiment_manual']\n",
    "\n",
    "y_test_bolsonaro = bolsonaro_first_round['sentiment_manual']\n",
    "cnf_matrix = confusion_matrix(y_test_bolsonaro, y_pred_bolsonaro)\n",
    "cnf_matrix = cnf_matrix.astype('float') / cnf_matrix.sum(axis=1)[:, np.newaxis]\n",
    "disp = ConfusionMatrixDisplay(cnf_matrix, display_labels=[-1, 0, 1])\n",
    "disp.plot(cmap = 'Blues')\n",
    "plt.savefig('bolsonaro_CM_pipe_LR_manual.png', dpi=500)\n",
    "plt.grid(False)"
   ]
  },
  {
   "cell_type": "code",
   "execution_count": 103,
   "metadata": {
    "id": "BotiKelDz-nV",
    "outputId": "c8b8efca-924b-4b08-c319-e0791e13cd4b"
   },
   "outputs": [
    {
     "name": "stdout",
     "output_type": "stream",
     "text": [
      "              precision    recall  f1-score   support\n",
      "\n",
      "          -1      0.860     0.941     0.899       786\n",
      "           0      0.895     0.867     0.881       727\n",
      "           1      0.940     0.842     0.888       487\n",
      "\n",
      "    accuracy                          0.890      2000\n",
      "   macro avg      0.899     0.883     0.889      2000\n",
      "weighted avg      0.892     0.890     0.890      2000\n",
      "\n"
     ]
    }
   ],
   "source": [
    "print(classification_report(y_test_bolsonaro, y_pred_bolsonaro, digits=3))"
   ]
  }
 ],
 "metadata": {
  "accelerator": "GPU",
  "colab": {
   "provenance": []
  },
  "gpuClass": "standard",
  "kernelspec": {
   "display_name": "Python 3 (ipykernel)",
   "language": "python",
   "name": "python3"
  },
  "language_info": {
   "codemirror_mode": {
    "name": "ipython",
    "version": 3
   },
   "file_extension": ".py",
   "mimetype": "text/x-python",
   "name": "python",
   "nbconvert_exporter": "python",
   "pygments_lexer": "ipython3",
   "version": "3.9.13"
  }
 },
 "nbformat": 4,
 "nbformat_minor": 4
}
